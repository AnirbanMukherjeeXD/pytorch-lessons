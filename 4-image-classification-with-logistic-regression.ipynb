{
 "cells": [
  {
   "cell_type": "code",
   "execution_count": 1,
   "metadata": {},
   "outputs": [],
   "source": [
    "import torch\n",
    "import torch.nn as nn\n",
    "\n",
    "from torchvision.datasets import MNIST\n",
    "import torchvision.transforms as transforms\n",
    "from torch.utils.data import random_split, DataLoader\n",
    "\n",
    "import matplotlib.pyplot as plt"
   ]
  },
  {
   "cell_type": "markdown",
   "metadata": {},
   "source": [
    "## Exploring MNIST dataset"
   ]
  },
  {
   "cell_type": "markdown",
   "metadata": {},
   "source": [
    "### Downloading/Loading torchvision.dataset.MNIST. "
   ]
  },
  {
   "cell_type": "code",
   "execution_count": 17,
   "metadata": {},
   "outputs": [
    {
     "data": {
      "text/plain": [
       "60000"
      ]
     },
     "execution_count": 17,
     "metadata": {},
     "output_type": "execute_result"
    }
   ],
   "source": [
    "# Training dataset\n",
    "\n",
    "dataset = MNIST(root='data/')\n",
    "len(dataset)"
   ]
  },
  {
   "cell_type": "markdown",
   "metadata": {},
   "source": [
    "Data is of type PIL image."
   ]
  },
  {
   "cell_type": "code",
   "execution_count": 18,
   "metadata": {},
   "outputs": [
    {
     "data": {
      "text/plain": [
       "Dataset MNIST\n",
       "    Number of datapoints: 60000\n",
       "    Root location: data/\n",
       "    Split: Train"
      ]
     },
     "execution_count": 18,
     "metadata": {},
     "output_type": "execute_result"
    }
   ],
   "source": [
    "dataset"
   ]
  },
  {
   "cell_type": "code",
   "execution_count": 19,
   "metadata": {},
   "outputs": [
    {
     "data": {
      "text/plain": [
       "10000"
      ]
     },
     "execution_count": 19,
     "metadata": {},
     "output_type": "execute_result"
    }
   ],
   "source": [
    "# Testing dataset\n",
    "\n",
    "test_dataset = MNIST(root='data/', train = False)\n",
    "len(test_dataset)"
   ]
  },
  {
   "cell_type": "markdown",
   "metadata": {},
   "source": [
    "Plotting first 10 images in the dataset along with their target labels."
   ]
  },
  {
   "cell_type": "code",
   "execution_count": 20,
   "metadata": {},
   "outputs": [
    {
     "data": {
      "image/png": "[encoded data removed]",
      "text/plain": [
       "<Figure size 864x360 with 10 Axes>"
      ]
     },
     "metadata": {
      "needs_background": "light"
     },
     "output_type": "display_data"
    }
   ],
   "source": [
    "fig, axes = plt.subplots(2, 5, figsize=(12,5))\n",
    "\n",
    "for i in range(10):\n",
    "    axes[i//5, i%5].imshow(dataset[i][0], cmap='gray')\n",
    "    axes[i//5, i%5].set_title(dataset[i][1])\n",
    "    axes[i//5, i%5].axis(\"off\")"
   ]
  },
  {
   "cell_type": "markdown",
   "metadata": {},
   "source": [
    "### Loading MNIST as tensors"
   ]
  },
  {
   "cell_type": "code",
   "execution_count": 28,
   "metadata": {},
   "outputs": [
    {
     "name": "stdout",
     "output_type": "stream",
     "text": [
      "torch.Size([1, 28, 28])\n"
     ]
    },
    {
     "data": {
      "image/png": "[encoded data removed]",
      "text/plain": [
       "<Figure size 432x288 with 1 Axes>"
      ]
     },
     "metadata": {
      "needs_background": "light"
     },
     "output_type": "display_data"
    }
   ],
   "source": [
    "dataset = MNIST(root='data/', transform=transforms.ToTensor())\n",
    "test_dataset = MNIST(root='data/', train=False, transform=transforms.ToTensor())\n",
    "\n",
    "img_tensor, label = dataset[0]\n",
    "print(img_tensor.shape)\n",
    "\n",
    "plt.imshow(img_tensor[0,:,:], cmap='gray')\n",
    "plt.show()"
   ]
  },
  {
   "cell_type": "code",
   "execution_count": 29,
   "metadata": {},
   "outputs": [
    {
     "data": {
      "text/plain": [
       "Dataset MNIST\n",
       "    Number of datapoints: 60000\n",
       "    Root location: data/\n",
       "    Split: Train\n",
       "    StandardTransform\n",
       "Transform: ToTensor()"
      ]
     },
     "execution_count": 29,
     "metadata": {},
     "output_type": "execute_result"
    }
   ],
   "source": [
    "dataset"
   ]
  },
  {
   "cell_type": "markdown",
   "metadata": {},
   "source": [
    "### Splitting dataset to training and validation"
   ]
  },
  {
   "cell_type": "code",
   "execution_count": 30,
   "metadata": {},
   "outputs": [
    {
     "name": "stdout",
     "output_type": "stream",
     "text": [
      "50000 10000\n"
     ]
    }
   ],
   "source": [
    "train_set, val_set = random_split(dataset, [50000, 10000])\n",
    "\n",
    "print(len(train_set), len(val_set))"
   ]
  },
  {
   "cell_type": "markdown",
   "metadata": {},
   "source": [
    "### Creating dataloader"
   ]
  },
  {
   "cell_type": "code",
   "execution_count": 31,
   "metadata": {},
   "outputs": [],
   "source": [
    "batch_size = 10000\n",
    "\n",
    "train_loader = DataLoader(train_set, batch_size, shuffle=True)\n",
    "val_loader = DataLoader(val_set, batch_size)"
   ]
  },
  {
   "cell_type": "markdown",
   "metadata": {},
   "source": [
    "### Creating model"
   ]
  },
  {
   "cell_type": "code",
   "execution_count": 32,
   "metadata": {},
   "outputs": [],
   "source": [
    "input_size = 28*28\n",
    "num_classes = 10"
   ]
  },
  {
   "cell_type": "code",
   "execution_count": 33,
   "metadata": {},
   "outputs": [],
   "source": [
    "class Model(torch.nn.Module):\n",
    "    def __init__(self):\n",
    "        super().__init__()\n",
    "        self.linear = nn.Linear(input_size, num_classes)\n",
    "            \n",
    "    ## Returns the value after forward pass\n",
    "    def forward(self, x):\n",
    "        \n",
    "        # Reshaping from 28x28 to 784, and first value (-1)\n",
    "        x = x.reshape(-1, 784)\n",
    "        \n",
    "        x1 = self.linear(x)\n",
    "        return x1\n",
    "    \n",
    "    ## Returns loss for a training batch\n",
    "    def training_step(self, batch):\n",
    "        images, labels = batch \n",
    "        \n",
    "        # Generate predictions\n",
    "        out = self(images)            \n",
    "        \n",
    "        # Calculate loss\n",
    "        loss = loss_function(out, labels) \n",
    "        return loss\n",
    "    \n",
    "    ## Returns the loss and accuracy for a validation batch\n",
    "    def validation_step(self, val_batch):\n",
    "        images, labels = val_batch \n",
    "        \n",
    "        # Generate predictions\n",
    "        out = self(images)            \n",
    "        \n",
    "        # Calculate loss\n",
    "        val_loss = loss_function(out, labels) \n",
    "        val_acc = accuracy(out, labels)\n",
    "        \n",
    "        return {\"val_loss\":val_loss, \"val_acc\":val_acc}\n",
    "    \n",
    "    ## Returns mean loss and mean accuracy from the losses and accuracies of all the batches\n",
    "    def validation_epoch_end(self, outputs):\n",
    "        \n",
    "        # Losses for each batch\n",
    "        batch_losses = [x['val_loss'] for x in outputs]\n",
    "        \n",
    "        # Mean loss for all batch\n",
    "        batch_mean_loss = torch.tensor(batch_losses).mean()\n",
    "        \n",
    "        # Accuracies for each batches\n",
    "        batch_accs = [x['val_acc'] for x in outputs]\n",
    "        \n",
    "        # Mean accuracy for all batches\n",
    "        batch_mean_acc = torch.tensor(batch_accs).mean()\n",
    "        \n",
    "        return {\"val_loss\":batch_mean_loss, \"val_acc\":batch_mean_acc}\n",
    "    \n",
    "    ## Prints validation loss and accuracy for epoch (mean of all batches)\n",
    "    def epoch_end(self, epoch, result):\n",
    "        print(\"Epoch [{}], val_loss: {:.4f}, val_acc: {:.4f}\".format(epoch, result['val_loss'], result['val_acc']))"
   ]
  },
  {
   "cell_type": "code",
   "execution_count": 34,
   "metadata": {},
   "outputs": [],
   "source": [
    "model = Model()"
   ]
  },
  {
   "cell_type": "markdown",
   "metadata": {},
   "source": [
    "Checking sample outputs from instantiated model using one batch of dataset."
   ]
  },
  {
   "cell_type": "code",
   "execution_count": 44,
   "metadata": {},
   "outputs": [
    {
     "name": "stdout",
     "output_type": "stream",
     "text": [
      "Image shape:  torch.Size([10000, 1, 28, 28])\n",
      "Output shape:  torch.Size([10000, 10])\n"
     ]
    }
   ],
   "source": [
    "for images, labels in train_loader:\n",
    "    print(\"Image shape: \", images.shape)\n",
    "    outputs = model(images)\n",
    "    break\n",
    "\n",
    "print(\"Output shape: \", outputs.shape)"
   ]
  },
  {
   "cell_type": "markdown",
   "metadata": {},
   "source": [
    "### Softmax function"
   ]
  },
  {
   "cell_type": "markdown",
   "metadata": {},
   "source": [
    "Getting probability values for every class."
   ]
  },
  {
   "cell_type": "code",
   "execution_count": 45,
   "metadata": {},
   "outputs": [
    {
     "name": "stdout",
     "output_type": "stream",
     "text": [
      "Sample probabilities:\n",
      " tensor([0.1170, 0.0940, 0.1156, 0.0787, 0.1213, 0.0856, 0.1106, 0.1056, 0.0749,\n",
      "        0.0967])\n",
      "Sum:  1.0\n"
     ]
    }
   ],
   "source": [
    "output_prob = nn.functional.softmax(outputs, dim = 1)\n",
    "\n",
    "# Checking probabilities\n",
    "print(\"Sample probabilities:\\n\", output_prob[0].data)\n",
    "\n",
    "# Adding the probabilities, we get 1\n",
    "print(\"Sum: \", torch.sum(output_prob[0]).item())"
   ]
  },
  {
   "cell_type": "code",
   "execution_count": 46,
   "metadata": {},
   "outputs": [
    {
     "name": "stdout",
     "output_type": "stream",
     "text": [
      "tensor([4, 2, 0, 3, 2, 8, 5, 5, 8, 2]) \n",
      "\n",
      "tensor([0.1213, 0.1314, 0.1186, 0.1275, 0.1301, 0.1372, 0.1311, 0.1253, 0.1648,\n",
      "        0.1255])\n"
     ]
    }
   ],
   "source": [
    "# Finding label predictions with maximum probabilites\n",
    "max_probs, preds = torch.max(output_prob, dim=1)\n",
    "\n",
    "print(preds[:10],'\\n')\n",
    "print(max_probs.data[:10])"
   ]
  },
  {
   "cell_type": "code",
   "execution_count": 47,
   "metadata": {},
   "outputs": [
    {
     "data": {
      "text/plain": [
       "tensor([6, 6, 2, 1, 8, 0, 4, 9, 2, 7])"
      ]
     },
     "execution_count": 47,
     "metadata": {},
     "output_type": "execute_result"
    }
   ],
   "source": [
    "# Comparing with actual labels\n",
    "labels[:10]"
   ]
  },
  {
   "cell_type": "markdown",
   "metadata": {},
   "source": [
    "### Evaluation metric"
   ]
  },
  {
   "cell_type": "markdown",
   "metadata": {},
   "source": [
    "Total number of correct prediction labels:"
   ]
  },
  {
   "cell_type": "code",
   "execution_count": 48,
   "metadata": {},
   "outputs": [
    {
     "data": {
      "text/plain": [
       "tensor(712)"
      ]
     },
     "execution_count": 48,
     "metadata": {},
     "output_type": "execute_result"
    }
   ],
   "source": [
    "torch.sum(preds==labels)"
   ]
  },
  {
   "cell_type": "markdown",
   "metadata": {},
   "source": [
    "Defining accuracy as total correct no. of predictions predictions divided by total no. of predictions."
   ]
  },
  {
   "cell_type": "code",
   "execution_count": 49,
   "metadata": {},
   "outputs": [],
   "source": [
    "# Accuracy\n",
    "def accuracy(outputs, labels):\n",
    "    _, preds = torch.max(outputs, dim=1)\n",
    "    return torch.tensor(torch.sum(preds == labels).item() / len(preds))"
   ]
  },
  {
   "cell_type": "code",
   "execution_count": 50,
   "metadata": {},
   "outputs": [
    {
     "data": {
      "text/plain": [
       "tensor(0.0712)"
      ]
     },
     "execution_count": 50,
     "metadata": {},
     "output_type": "execute_result"
    }
   ],
   "source": [
    "accuracy(output_prob, labels)"
   ]
  },
  {
   "cell_type": "markdown",
   "metadata": {},
   "source": [
    "### Loss function"
   ]
  },
  {
   "cell_type": "code",
   "execution_count": 53,
   "metadata": {},
   "outputs": [
    {
     "name": "stdout",
     "output_type": "stream",
     "text": [
      "tensor(2.3057)\n"
     ]
    }
   ],
   "source": [
    "loss_function = nn.functional.cross_entropy\n",
    "\n",
    "# Since gradients not needed, we can use torch.no_grad()\n",
    "with torch.no_grad():\n",
    "    print(loss_function(output_prob, labels))"
   ]
  },
  {
   "cell_type": "markdown",
   "metadata": {},
   "source": [
    "### Optimizer"
   ]
  },
  {
   "cell_type": "code",
   "execution_count": 54,
   "metadata": {},
   "outputs": [],
   "source": [
    "learning_rate = 0.05\n",
    "sgd = torch.optim.SGD(model.parameters(), lr=learning_rate)"
   ]
  },
  {
   "cell_type": "markdown",
   "metadata": {},
   "source": [
    "### Training"
   ]
  },
  {
   "cell_type": "code",
   "execution_count": 56,
   "metadata": {},
   "outputs": [],
   "source": [
    "# Utility function to train the model\n",
    "\n",
    "def fit(epochs, model, optimizer, train_loader, val_loader):\n",
    "    print(\"Training\")\n",
    "    \n",
    "    # For recording epoch wise results\n",
    "    history = []\n",
    "    \n",
    "    for i in range(epochs):\n",
    "        for batch in train_loader:\n",
    "            \n",
    "            # Make prediction & Calculate loss\n",
    "            loss = model.training_step(batch)\n",
    "            \n",
    "            # Compute gradients\n",
    "            loss.backward()\n",
    "            \n",
    "            # Update parameters using gradients\n",
    "            optimizer.step()\n",
    "            \n",
    "            # Reset gradients to zero\n",
    "            optimizer.zero_grad()\n",
    "            \n",
    "        ## Validation phase \n",
    "        result = evaluate(model, val_loader)\n",
    "        model.epoch_end(i, result)\n",
    "        history.append(result)\n",
    "            \n",
    "    return history"
   ]
  },
  {
   "cell_type": "code",
   "execution_count": 57,
   "metadata": {},
   "outputs": [],
   "source": [
    "def evaluate(model, val_loader):\n",
    "    \n",
    "    # List containing evaluations for every batch\n",
    "    outputs = [model.validation_step(batch) for batch in val_loader]\n",
    "    \n",
    "    return model.validation_epoch_end(outputs)"
   ]
  },
  {
   "cell_type": "code",
   "execution_count": 58,
   "metadata": {},
   "outputs": [
    {
     "name": "stdout",
     "output_type": "stream",
     "text": [
      "Training\n",
      "Epoch [0], val_loss: 2.0941, val_acc: 0.4826\n",
      "Epoch [1], val_loss: 1.8891, val_acc: 0.6549\n",
      "Epoch [2], val_loss: 1.7192, val_acc: 0.7075\n",
      "Epoch [3], val_loss: 1.5785, val_acc: 0.7354\n",
      "Epoch [4], val_loss: 1.4616, val_acc: 0.7542\n",
      "Epoch [5], val_loss: 1.3640, val_acc: 0.7666\n",
      "Epoch [6], val_loss: 1.2819, val_acc: 0.7784\n",
      "Epoch [7], val_loss: 1.2121, val_acc: 0.7891\n",
      "Epoch [8], val_loss: 1.1524, val_acc: 0.7961\n",
      "Epoch [9], val_loss: 1.1007, val_acc: 0.8020\n",
      "Epoch [10], val_loss: 1.0556, val_acc: 0.8066\n",
      "Epoch [11], val_loss: 1.0160, val_acc: 0.8112\n",
      "Epoch [12], val_loss: 0.9810, val_acc: 0.8148\n",
      "Epoch [13], val_loss: 0.9497, val_acc: 0.8183\n",
      "Epoch [14], val_loss: 0.9217, val_acc: 0.8202\n",
      "Epoch [15], val_loss: 0.8964, val_acc: 0.8229\n",
      "Epoch [16], val_loss: 0.8735, val_acc: 0.8263\n",
      "Epoch [17], val_loss: 0.8526, val_acc: 0.8286\n",
      "Epoch [18], val_loss: 0.8334, val_acc: 0.8312\n",
      "Epoch [19], val_loss: 0.8159, val_acc: 0.8330\n",
      "Epoch [20], val_loss: 0.7997, val_acc: 0.8342\n",
      "Epoch [21], val_loss: 0.7847, val_acc: 0.8359\n",
      "Epoch [22], val_loss: 0.7707, val_acc: 0.8369\n",
      "Epoch [23], val_loss: 0.7578, val_acc: 0.8383\n",
      "Epoch [24], val_loss: 0.7457, val_acc: 0.8401\n",
      "Epoch [25], val_loss: 0.7343, val_acc: 0.8409\n",
      "Epoch [26], val_loss: 0.7237, val_acc: 0.8419\n",
      "Epoch [27], val_loss: 0.7137, val_acc: 0.8426\n",
      "Epoch [28], val_loss: 0.7042, val_acc: 0.8432\n",
      "Epoch [29], val_loss: 0.6953, val_acc: 0.8444\n"
     ]
    }
   ],
   "source": [
    "history = fit(30, model, sgd, train_loader, val_loader)"
   ]
  },
  {
   "cell_type": "markdown",
   "metadata": {},
   "source": [
    "Now we plot the evaluation metrics for all epochs."
   ]
  },
  {
   "cell_type": "code",
   "execution_count": 59,
   "metadata": {},
   "outputs": [],
   "source": [
    "losses = [l['val_loss'] for l in history]\n",
    "acc = [a['val_acc'] for a in history]"
   ]
  },
  {
   "cell_type": "code",
   "execution_count": 81,
   "metadata": {},
   "outputs": [
    {
     "data": {
      "image/png": "[encoded data removed]",
      "text/plain": [
       "<Figure size 720x216 with 2 Axes>"
      ]
     },
     "metadata": {
      "needs_background": "light"
     },
     "output_type": "display_data"
    }
   ],
   "source": [
    "fig, axes = plt.subplots(1, 2, figsize=(10,3))\n",
    "\n",
    "axes[0].plot(losses)\n",
    "axes[0].set_xlabel(\"Epochs\")\n",
    "axes[0].set_ylabel(\"Cross Entropy\")\n",
    "axes[0].set_title(\"Validation losses\")\n",
    "\n",
    "axes[1].plot(acc)\n",
    "axes[1].set_xlabel(\"Epochs\")\n",
    "axes[1].set_ylabel(\"Accuracy\")\n",
    "axes[1].set_title(\"Validation accuracies\")\n",
    "plt.show()"
   ]
  },
  {
   "cell_type": "markdown",
   "metadata": {},
   "source": [
    "### Checking model performance on test dataset"
   ]
  },
  {
   "cell_type": "code",
   "execution_count": 82,
   "metadata": {},
   "outputs": [],
   "source": [
    "test_loader = DataLoader(test_dataset, int(batch_size/2))\n"
   ]
  },
  {
   "cell_type": "code",
   "execution_count": 88,
   "metadata": {},
   "outputs": [
    {
     "name": "stdout",
     "output_type": "stream",
     "text": [
      "Test Loss = 0.6559, Test accuracy = 0.8597\n"
     ]
    }
   ],
   "source": [
    "result = evaluate(model, test_loader)\n",
    "print(\"Test Loss = {:.4f}, Test accuracy = {:.4F}\".format(result['val_loss'], result['val_acc']))"
   ]
  }
 ],
 "metadata": {
  "kernelspec": {
   "display_name": "Python 3",
   "language": "python",
   "name": "python3"
  },
  "language_info": {
   "codemirror_mode": {
    "name": "ipython",
    "version": 3
   },
   "file_extension": ".py",
   "mimetype": "text/x-python",
   "name": "python",
   "nbconvert_exporter": "python",
   "pygments_lexer": "ipython3",
   "version": "3.7.1"
  }
 },
 "nbformat": 4,
 "nbformat_minor": 2
}
