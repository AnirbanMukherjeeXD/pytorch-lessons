{
 "cells": [
  {
   "cell_type": "code",
   "execution_count": 1,
   "metadata": {},
   "outputs": [],
   "source": [
    "import torch\n",
    "import torch.nn as nn\n",
    "import torch.nn.functional as F\n",
    "\n",
    "from torchvision.datasets import MNIST\n",
    "import torchvision.transforms as transforms\n",
    "from torch.utils.data import random_split, DataLoader\n",
    "\n",
    "import matplotlib.pyplot as plt"
   ]
  },
  {
   "cell_type": "markdown",
   "metadata": {},
   "source": [
    "## Exploring MNIST dataset"
   ]
  },
  {
   "cell_type": "markdown",
   "metadata": {},
   "source": [
    "### Downloading/Loading torchvision.dataset.MNIST. "
   ]
  },
  {
   "cell_type": "code",
   "execution_count": 2,
   "metadata": {},
   "outputs": [
    {
     "data": {
      "text/plain": [
       "60000"
      ]
     },
     "execution_count": 2,
     "metadata": {},
     "output_type": "execute_result"
    }
   ],
   "source": [
    "# Training dataset\n",
    "\n",
    "dataset = MNIST(root='data/')\n",
    "len(dataset)"
   ]
  },
  {
   "cell_type": "code",
   "execution_count": 3,
   "metadata": {},
   "outputs": [
    {
     "data": {
      "text/plain": [
       "Dataset MNIST\n",
       "    Number of datapoints: 60000\n",
       "    Root location: data/\n",
       "    Split: Train"
      ]
     },
     "execution_count": 3,
     "metadata": {},
     "output_type": "execute_result"
    }
   ],
   "source": [
    "dataset"
   ]
  },
  {
   "cell_type": "code",
   "execution_count": 4,
   "metadata": {},
   "outputs": [
    {
     "data": {
      "text/plain": [
       "10000"
      ]
     },
     "execution_count": 4,
     "metadata": {},
     "output_type": "execute_result"
    }
   ],
   "source": [
    "# Testing dataset\n",
    "\n",
    "test_dataset = MNIST(root='data/', train = False)\n",
    "len(test_dataset)"
   ]
  },
  {
   "cell_type": "markdown",
   "metadata": {},
   "source": [
    "Plotting first 10 images in the dataset along with their target labels."
   ]
  },
  {
   "cell_type": "code",
   "execution_count": 5,
   "metadata": {},
   "outputs": [
    {
     "data": {
      "image/png": "[encoded data removed]",
      "text/plain": [
       "<Figure size 864x360 with 10 Axes>"
      ]
     },
     "metadata": {
      "needs_background": "light"
     },
     "output_type": "display_data"
    }
   ],
   "source": [
    "fig, axes = plt.subplots(2, 5, figsize=(12,5))\n",
    "\n",
    "for i in range(10):\n",
    "    axes[i//5, i%5].imshow(dataset[i][0], cmap='gray')\n",
    "    axes[i//5, i%5].set_title(dataset[i][1])\n",
    "    axes[i//5, i%5].axis(\"off\")"
   ]
  },
  {
   "cell_type": "markdown",
   "metadata": {},
   "source": [
    "### Loading MNIST as tensors"
   ]
  },
  {
   "cell_type": "code",
   "execution_count": 6,
   "metadata": {},
   "outputs": [
    {
     "name": "stdout",
     "output_type": "stream",
     "text": [
      "torch.Size([1, 28, 28])\n"
     ]
    },
    {
     "data": {
      "image/png": "[encoded data removed]",
      "text/plain": [
       "<Figure size 432x288 with 1 Axes>"
      ]
     },
     "metadata": {
      "needs_background": "light"
     },
     "output_type": "display_data"
    }
   ],
   "source": [
    "dataset = MNIST(root='data/', transform=transforms.ToTensor())\n",
    "test_dataset = MNIST(root='data/', train=False, transform=transforms.ToTensor())\n",
    "\n",
    "img_tensor, label = dataset[0]\n",
    "print(img_tensor.shape)\n",
    "\n",
    "plt.imshow(img_tensor[0,:,:], cmap='gray')\n",
    "plt.show()"
   ]
  },
  {
   "cell_type": "markdown",
   "metadata": {},
   "source": [
    "### Splitting dataset to training and validation"
   ]
  },
  {
   "cell_type": "code",
   "execution_count": 7,
   "metadata": {},
   "outputs": [],
   "source": [
    "val_split = (1/6)\n",
    "\n",
    "val_size = int(len(dataset) * val_split)\n",
    "train_size = len(dataset) - val_size"
   ]
  },
  {
   "cell_type": "code",
   "execution_count": 8,
   "metadata": {},
   "outputs": [
    {
     "name": "stdout",
     "output_type": "stream",
     "text": [
      "50000 10000\n"
     ]
    }
   ],
   "source": [
    "train_set, val_set = random_split(dataset, [train_size, val_size])\n",
    "\n",
    "print(len(train_set), len(val_set))"
   ]
  },
  {
   "cell_type": "markdown",
   "metadata": {},
   "source": [
    "### Creating dataloader"
   ]
  },
  {
   "cell_type": "code",
   "execution_count": 9,
   "metadata": {},
   "outputs": [],
   "source": [
    "batch_size = 10000\n",
    "\n",
    "train_loader = DataLoader(train_set, batch_size, shuffle=True)\n",
    "val_loader = DataLoader(val_set, batch_size)"
   ]
  },
  {
   "cell_type": "markdown",
   "metadata": {},
   "source": [
    "### Defining model"
   ]
  },
  {
   "cell_type": "code",
   "execution_count": 10,
   "metadata": {},
   "outputs": [],
   "source": [
    "input_size = 28*28\n",
    "num_classes = 10"
   ]
  },
  {
   "cell_type": "code",
   "execution_count": 40,
   "metadata": {},
   "outputs": [],
   "source": [
    "class Model(torch.nn.Module):\n",
    "    def __init__(self, input_size, hidden_size, out_size, loss_func, learning_rate):\n",
    "        super().__init__()\n",
    "        # Loss function\n",
    "        self.loss_func = loss_func\n",
    "        # Hidden Layer\n",
    "        self.linear1 = nn.Linear(input_size, hidden_size)\n",
    "        # Output layer\n",
    "        self.linear2 = nn.Linear(hidden_size, out_size)\n",
    "        # Optimizer\n",
    "        self.opt = torch.optim.SGD(self.parameters(), lr=learning_rate)\n",
    "            \n",
    "    ## Returns the value after forward pass\n",
    "    def forward(self, x):\n",
    "        \n",
    "        # Reshaping from 28x28 to 784, and first value (-1)\n",
    "        x = x.reshape(-1, 784)\n",
    "        # First linear layer\n",
    "        x1 = self.linear1(x)\n",
    "        # Activation layer\n",
    "        a1 = F.relu(x1)\n",
    "        # Output linear layer\n",
    "        x2 = self.linear2(a1)\n",
    "        return x2\n",
    "    \n",
    "    ## Returns loss for a training batch\n",
    "    def training_step(self, batch):\n",
    "        images, labels = batch \n",
    "        \n",
    "        # Generate predictions\n",
    "        out = self(images)            \n",
    "        \n",
    "        # Calculate loss\n",
    "        loss = self.loss_func(out, labels) \n",
    "        return loss\n",
    "    \n",
    "    ## Returns the loss and accuracy for a validation batch\n",
    "    def validation_step(self, val_batch):\n",
    "        images, labels = val_batch \n",
    "        \n",
    "        # Generate predictions\n",
    "        out = self(images)            \n",
    "        \n",
    "        # Calculate loss\n",
    "        val_loss = self.loss_func(out, labels) \n",
    "        val_acc = accuracy(out, labels)\n",
    "        \n",
    "        return {\"val_loss\":val_loss, \"val_acc\":val_acc}\n",
    "    \n",
    "    ## Returns mean loss and mean accuracy from the losses and accuracies of all the batches\n",
    "    def validation_epoch_end(self, outputs):\n",
    "        \n",
    "        # Losses for each batch\n",
    "        batch_losses = [x['val_loss'] for x in outputs]\n",
    "        \n",
    "        # Mean loss for all batch\n",
    "        batch_mean_loss = torch.tensor(batch_losses).mean()\n",
    "        \n",
    "        # Accuracies for each batches\n",
    "        batch_accs = [x['val_acc'] for x in outputs]\n",
    "        \n",
    "        # Mean accuracy for all batches\n",
    "        batch_mean_acc = torch.tensor(batch_accs).mean()\n",
    "        \n",
    "        return {\"val_loss\":batch_mean_loss, \"val_acc\":batch_mean_acc}\n",
    "    \n",
    "    ## Prints validation loss and accuracy for epoch (mean of all batches)\n",
    "    def epoch_end(self, epoch, result):\n",
    "        print(\"Epoch [{}], val_loss: {:.4f}, val_acc: {:.4f}\".format(epoch, result['val_loss'], result['val_acc']))"
   ]
  },
  {
   "cell_type": "markdown",
   "metadata": {},
   "source": [
    "Checking sample outputs from instantiated model using one batch of dataset."
   ]
  },
  {
   "cell_type": "markdown",
   "metadata": {},
   "source": [
    "### Evaluation metric"
   ]
  },
  {
   "cell_type": "markdown",
   "metadata": {},
   "source": [
    "Defining accuracy as total correct no. of predictions predictions divided by total no. of predictions."
   ]
  },
  {
   "cell_type": "code",
   "execution_count": 41,
   "metadata": {},
   "outputs": [],
   "source": [
    "# Accuracy\n",
    "def accuracy(outputs, labels):\n",
    "    _, preds = torch.max(outputs, dim=1)\n",
    "    return torch.tensor(torch.sum(preds == labels).item() / len(preds))"
   ]
  },
  {
   "cell_type": "code",
   "execution_count": null,
   "metadata": {},
   "outputs": [],
   "source": []
  },
  {
   "cell_type": "markdown",
   "metadata": {},
   "source": [
    "### Training"
   ]
  },
  {
   "cell_type": "code",
   "execution_count": 42,
   "metadata": {},
   "outputs": [],
   "source": [
    "# Utility function to train the model\n",
    "\n",
    "def fit(epochs, model, train_loader, val_loader):\n",
    "    print(\"Training\")\n",
    "    \n",
    "    # For recording epoch wise results\n",
    "    history = []\n",
    "    \n",
    "    for i in range(epochs):\n",
    "        for batch in train_loader:\n",
    "            \n",
    "            # Make prediction & Calculate loss\n",
    "            loss = model.training_step(batch)\n",
    "            \n",
    "            # Compute gradients\n",
    "            loss.backward()\n",
    "            \n",
    "            # Update parameters using gradients\n",
    "            model.opt.step()\n",
    "            \n",
    "            # Reset gradients to zero\n",
    "            model.opt.zero_grad()\n",
    "            \n",
    "        ## Validation phase \n",
    "        result = evaluate(model, val_loader)\n",
    "        model.epoch_end(i, result)\n",
    "        history.append(result)\n",
    "            \n",
    "    return history"
   ]
  },
  {
   "cell_type": "code",
   "execution_count": 43,
   "metadata": {},
   "outputs": [],
   "source": [
    "def evaluate(model, val_loader):\n",
    "    \n",
    "    # List containing evaluations for every batch\n",
    "    outputs = [model.validation_step(batch) for batch in val_loader]\n",
    "    \n",
    "    return model.validation_epoch_end(outputs)"
   ]
  },
  {
   "cell_type": "markdown",
   "metadata": {},
   "source": [
    "### Creating and training model"
   ]
  },
  {
   "cell_type": "code",
   "execution_count": 44,
   "metadata": {},
   "outputs": [],
   "source": [
    "# Hyperparameters\n",
    "hidden_size = 32\n",
    "loss_func = F.cross_entropy\n",
    "learning_rate = 0.1\n",
    "\n",
    "# Create model\n",
    "model = Model(input_size = input_size, hidden_size = hidden_size, out_size = num_classes, \n",
    "              loss_func = loss_func, \n",
    "              learning_rate = learning_rate)"
   ]
  },
  {
   "cell_type": "code",
   "execution_count": 45,
   "metadata": {},
   "outputs": [
    {
     "name": "stdout",
     "output_type": "stream",
     "text": [
      "Training\n",
      "Epoch [0], val_loss: 2.2285, val_acc: 0.2810\n",
      "Epoch [1], val_loss: 2.1346, val_acc: 0.3322\n",
      "Epoch [2], val_loss: 2.0254, val_acc: 0.4460\n",
      "Epoch [3], val_loss: 1.8981, val_acc: 0.5736\n",
      "Epoch [4], val_loss: 1.7557, val_acc: 0.6551\n",
      "Epoch [5], val_loss: 1.6046, val_acc: 0.7049\n",
      "Epoch [6], val_loss: 1.4547, val_acc: 0.7333\n",
      "Epoch [7], val_loss: 1.3146, val_acc: 0.7504\n",
      "Epoch [8], val_loss: 1.1903, val_acc: 0.7638\n",
      "Epoch [9], val_loss: 1.0839, val_acc: 0.7798\n"
     ]
    }
   ],
   "source": [
    "history_1 = fit(10, model, train_loader, val_loader)"
   ]
  },
  {
   "cell_type": "code",
   "execution_count": 50,
   "metadata": {},
   "outputs": [
    {
     "name": "stdout",
     "output_type": "stream",
     "text": [
      "Training\n",
      "Epoch [0], val_loss: 0.9950, val_acc: 0.7961\n",
      "Epoch [1], val_loss: 0.9209, val_acc: 0.8074\n",
      "Epoch [2], val_loss: 0.8591, val_acc: 0.8204\n",
      "Epoch [3], val_loss: 0.8072, val_acc: 0.8272\n",
      "Epoch [4], val_loss: 0.7635, val_acc: 0.8349\n",
      "Epoch [5], val_loss: 0.7263, val_acc: 0.8397\n",
      "Epoch [6], val_loss: 0.6938, val_acc: 0.8451\n",
      "Epoch [7], val_loss: 0.6660, val_acc: 0.8480\n",
      "Epoch [8], val_loss: 0.6413, val_acc: 0.8524\n",
      "Epoch [9], val_loss: 0.6193, val_acc: 0.8546\n"
     ]
    }
   ],
   "source": [
    "history_2 = fit(10, model, train_loader, val_loader)"
   ]
  },
  {
   "cell_type": "markdown",
   "metadata": {},
   "source": [
    "Now we plot the evaluation metrics for all epochs."
   ]
  },
  {
   "cell_type": "code",
   "execution_count": 52,
   "metadata": {},
   "outputs": [],
   "source": [
    "losses = [l['val_loss'] for l in history_1+history_2]\n",
    "acc = [a['val_acc'] for a in history_1+history_2]"
   ]
  },
  {
   "cell_type": "code",
   "execution_count": 53,
   "metadata": {},
   "outputs": [
    {
     "data": {
      "image/png": "[encoded data removed]",
      "text/plain": [
       "<Figure size 720x216 with 2 Axes>"
      ]
     },
     "metadata": {
      "needs_background": "light"
     },
     "output_type": "display_data"
    }
   ],
   "source": [
    "fig, axes = plt.subplots(1, 2, figsize=(10,3))\n",
    "\n",
    "axes[0].plot(losses, '-o')\n",
    "axes[0].set_xlabel(\"Epochs\")\n",
    "axes[0].set_ylabel(\"Cross Entropy\")\n",
    "axes[0].set_title(\"Validation losses\")\n",
    "\n",
    "axes[1].plot(acc, '-o')\n",
    "axes[1].set_xlabel(\"Epochs\")\n",
    "axes[1].set_ylabel(\"Accuracy\")\n",
    "axes[1].set_title(\"Validation accuracies\")\n",
    "plt.show()"
   ]
  },
  {
   "cell_type": "markdown",
   "metadata": {},
   "source": [
    "### Checking model performance on test dataset"
   ]
  },
  {
   "cell_type": "code",
   "execution_count": 58,
   "metadata": {},
   "outputs": [],
   "source": [
    "test_loader = DataLoader(test_dataset, batch_size)\n"
   ]
  },
  {
   "cell_type": "code",
   "execution_count": 59,
   "metadata": {},
   "outputs": [
    {
     "name": "stdout",
     "output_type": "stream",
     "text": [
      "Test Loss = 0.5938, Test accuracy = 0.8659\n"
     ]
    }
   ],
   "source": [
    "result = evaluate(model, test_loader)\n",
    "print(\"Test Loss = {:.4f}, Test accuracy = {:.4F}\".format(result['val_loss'], result['val_acc']))"
   ]
  }
 ],
 "metadata": {
  "kernelspec": {
   "display_name": "Python 3",
   "language": "python",
   "name": "python3"
  },
  "language_info": {
   "codemirror_mode": {
    "name": "ipython",
    "version": 3
   },
   "file_extension": ".py",
   "mimetype": "text/x-python",
   "name": "python",
   "nbconvert_exporter": "python",
   "pygments_lexer": "ipython3",
   "version": "3.7.1"
  }
 },
 "nbformat": 4,
 "nbformat_minor": 2
}
