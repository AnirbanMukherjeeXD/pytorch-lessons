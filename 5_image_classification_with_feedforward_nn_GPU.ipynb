{
  "nbformat": 4,
  "nbformat_minor": 0,
  "metadata": {
    "kernelspec": {
      "display_name": "Python 3",
      "language": "python",
      "name": "python3"
    },
    "language_info": {
      "codemirror_mode": {
        "name": "ipython",
        "version": 3
      },
      "file_extension": ".py",
      "mimetype": "text/x-python",
      "name": "python",
      "nbconvert_exporter": "python",
      "pygments_lexer": "ipython3",
      "version": "3.7.1"
    },
    "colab": {
      "name": "5-image-classification-with-feedforward-nn.ipynb",
      "provenance": [],
      "collapsed_sections": [],
      "toc_visible": true
    },
    "accelerator": "GPU"
  },
  "cells": [
    {
      "cell_type": "code",
      "metadata": {
        "id": "7wY79S7O9V0A"
      },
      "source": [
        "import torch\n",
        "import torch.nn as nn\n",
        "import torch.nn.functional as F\n",
        "\n",
        "from torchvision.datasets import MNIST\n",
        "import torchvision.transforms as transforms\n",
        "from torch.utils.data import random_split, DataLoader\n",
        "\n",
        "import matplotlib.pyplot as plt"
      ],
      "execution_count": 3,
      "outputs": []
    },
    {
      "cell_type": "markdown",
      "metadata": {
        "id": "8r1nQURd9V0D"
      },
      "source": [
        "## Exploring MNIST dataset"
      ]
    },
    {
      "cell_type": "markdown",
      "metadata": {
        "id": "CpeBQdeF9V0E"
      },
      "source": [
        "### Downloading/Loading torchvision.dataset.MNIST as Tensors."
      ]
    },
    {
      "cell_type": "code",
      "metadata": {
        "colab": {
          "base_uri": "https://localhost:8080/"
        },
        "id": "9QdY7GeM9V0H",
        "outputId": "ae3c0708-b9a1-4061-9b36-232bcd106c6a"
      },
      "source": [
        "dataset = MNIST(root='data/', transform=transforms.ToTensor())\n",
        "\n",
        "img_tensor, label = dataset[0]\n",
        "print(img_tensor.shape)"
      ],
      "execution_count": 98,
      "outputs": [
        {
          "output_type": "stream",
          "text": [
            "torch.Size([1, 28, 28])\n"
          ],
          "name": "stdout"
        }
      ]
    },
    {
      "cell_type": "code",
      "metadata": {
        "colab": {
          "base_uri": "https://localhost:8080/"
        },
        "id": "xOQELkX_9V0F",
        "outputId": "c134ec2c-a30e-46a2-d12e-adbf1b3ce36c"
      },
      "source": [
        "dataset"
      ],
      "execution_count": 99,
      "outputs": [
        {
          "output_type": "execute_result",
          "data": {
            "text/plain": [
              "Dataset MNIST\n",
              "    Number of datapoints: 60000\n",
              "    Root location: data/\n",
              "    Split: Train\n",
              "    StandardTransform\n",
              "Transform: ToTensor()"
            ]
          },
          "metadata": {
            "tags": []
          },
          "execution_count": 99
        }
      ]
    },
    {
      "cell_type": "markdown",
      "metadata": {
        "id": "7MQ-E8BU9V0G"
      },
      "source": [
        "Plotting first 10 images in the dataset along with their target labels."
      ]
    },
    {
      "cell_type": "code",
      "metadata": {
        "colab": {
          "base_uri": "https://localhost:8080/",
          "height": 311
        },
        "id": "E_62393wKrFt",
        "outputId": "fc12ab0e-5576-4e7c-f7e6-6fb6471e6524"
      },
      "source": [
        "fig, axes = plt.subplots(2, 5, figsize=(12,5))\n",
        "\n",
        "for i in range(10):\n",
        "    axes[i//5, i%5].imshow(dataset[i][0][0,:,:], cmap='gray')\n",
        "    axes[i//5, i%5].set_title(dataset[i][1])\n",
        "    axes[i//5, i%5].axis(\"off\")"
      ],
      "execution_count": 97,
      "outputs": [
        {
          "output_type": "display_data",
          "data": {
            "image/png": "[encoded data removed]",
            "text/plain": [
              "<Figure size 864x360 with 10 Axes>"
            ]
          },
          "metadata": {
            "tags": [],
            "needs_background": "light"
          }
        }
      ]
    },
    {
      "cell_type": "markdown",
      "metadata": {
        "id": "Kk0CZtVf9V0I"
      },
      "source": [
        "### Splitting dataset to training and validation"
      ]
    },
    {
      "cell_type": "code",
      "metadata": {
        "id": "w0cf1tCo9V0I"
      },
      "source": [
        "val_split = (1/6)\n",
        "\n",
        "val_size = int(len(dataset) * val_split)\n",
        "train_size = len(dataset) - val_size"
      ],
      "execution_count": 18,
      "outputs": []
    },
    {
      "cell_type": "code",
      "metadata": {
        "colab": {
          "base_uri": "https://localhost:8080/"
        },
        "id": "zXNerbIG9V0I",
        "outputId": "ecfad7dd-d11b-46dd-d373-9fd735cf8719"
      },
      "source": [
        "train_set, val_set = random_split(dataset, [train_size, val_size])\n",
        "\n",
        "print(len(train_set), len(val_set))"
      ],
      "execution_count": 19,
      "outputs": [
        {
          "output_type": "stream",
          "text": [
            "50000 10000\n"
          ],
          "name": "stdout"
        }
      ]
    },
    {
      "cell_type": "markdown",
      "metadata": {
        "id": "mai-iOyQ9V0J"
      },
      "source": [
        "### Creating dataloader"
      ]
    },
    {
      "cell_type": "code",
      "metadata": {
        "id": "rXlOqnMr9V0J"
      },
      "source": [
        "batch_size = 10000\n",
        "\n",
        "train_loader = DataLoader(train_set, batch_size, shuffle=True)\n",
        "val_loader = DataLoader(val_set, batch_size)"
      ],
      "execution_count": 20,
      "outputs": []
    },
    {
      "cell_type": "markdown",
      "metadata": {
        "id": "un0b8YPY9V0J"
      },
      "source": [
        "### Defining model"
      ]
    },
    {
      "cell_type": "code",
      "metadata": {
        "id": "qBDGuCvb9V0J"
      },
      "source": [
        "input_size = 28*28\n",
        "num_classes = 10"
      ],
      "execution_count": 21,
      "outputs": []
    },
    {
      "cell_type": "code",
      "metadata": {
        "id": "b1EueWiM9V0K"
      },
      "source": [
        "class Model(torch.nn.Module):\n",
        "    def __init__(self, input_size, hidden_size, out_size, loss_func, learning_rate):\n",
        "        super().__init__()\n",
        "        # Loss function\n",
        "        self.loss_func = loss_func\n",
        "        # Hidden Layer\n",
        "        self.linear1 = nn.Linear(input_size, hidden_size)\n",
        "        # Output layer\n",
        "        self.linear2 = nn.Linear(hidden_size, out_size)\n",
        "        # Optimizer\n",
        "        self.opt = torch.optim.SGD(self.parameters(), lr=learning_rate)\n",
        "            \n",
        "    ## Returns the value after forward pass\n",
        "    def forward(self, x):\n",
        "        \n",
        "        # Reshaping from 28x28 to 784, and first value (-1)\n",
        "        x = x.reshape(-1, 784)\n",
        "        # First linear layer\n",
        "        x1 = self.linear1(x)\n",
        "        # Activation layer\n",
        "        a1 = F.relu(x1)\n",
        "        # Output linear layer\n",
        "        x2 = self.linear2(a1)\n",
        "        return x2\n",
        "    \n",
        "    ## Returns loss for a training batch\n",
        "    def training_step(self, batch):\n",
        "        images, labels = batch \n",
        "        \n",
        "        # Generate predictions\n",
        "        out = self(images)            \n",
        "        \n",
        "        # Calculate loss\n",
        "        loss = self.loss_func(out, labels) \n",
        "        return loss\n",
        "    \n",
        "    ## Returns the loss and accuracy for a validation batch\n",
        "    def validation_step(self, val_batch):\n",
        "        images, labels = val_batch \n",
        "        \n",
        "        # Generate predictions\n",
        "        out = self(images)            \n",
        "        \n",
        "        # Calculate loss\n",
        "        val_loss = self.loss_func(out, labels) \n",
        "        val_acc = accuracy(out, labels)\n",
        "        \n",
        "        return {\"val_loss\":val_loss, \"val_acc\":val_acc}\n",
        "    \n",
        "    ## Returns mean loss and mean accuracy from the losses and accuracies of all the batches\n",
        "    def validation_epoch_end(self, outputs):\n",
        "        \n",
        "        # Losses for each batch\n",
        "        batch_losses = [x['val_loss'] for x in outputs]\n",
        "        \n",
        "        # Mean loss for all batch\n",
        "        batch_mean_loss = torch.tensor(batch_losses).mean()\n",
        "        \n",
        "        # Accuracies for each batches\n",
        "        batch_accs = [x['val_acc'] for x in outputs]\n",
        "        \n",
        "        # Mean accuracy for all batches\n",
        "        batch_mean_acc = torch.tensor(batch_accs).mean()\n",
        "        \n",
        "        return {\"val_loss\":batch_mean_loss, \"val_acc\":batch_mean_acc}\n",
        "    \n",
        "    ## Prints validation loss and accuracy for epoch (mean of all batches)\n",
        "    def epoch_end(self, epoch, result):\n",
        "        print(\"Epoch [{}], val_loss: {:.4f}, val_acc: {:.4f}\".format(epoch, result['val_loss'], result['val_acc']))"
      ],
      "execution_count": 22,
      "outputs": []
    },
    {
      "cell_type": "markdown",
      "metadata": {
        "id": "1VwaWQf69V0K"
      },
      "source": [
        "Checking sample outputs from instantiated model using one batch of dataset."
      ]
    },
    {
      "cell_type": "markdown",
      "metadata": {
        "id": "-UaWgQFN9V0K"
      },
      "source": [
        "### Evaluation metric"
      ]
    },
    {
      "cell_type": "markdown",
      "metadata": {
        "id": "zYcjScN19V0L"
      },
      "source": [
        "Defining accuracy as total correct no. of predictions predictions divided by total no. of predictions."
      ]
    },
    {
      "cell_type": "code",
      "metadata": {
        "id": "EnQ_5ee-9V0L"
      },
      "source": [
        "# Accuracy\n",
        "def accuracy(outputs, labels):\n",
        "    _, preds = torch.max(outputs, dim=1)\n",
        "    return torch.tensor(torch.sum(preds == labels).item() / len(preds))"
      ],
      "execution_count": 23,
      "outputs": []
    },
    {
      "cell_type": "markdown",
      "metadata": {
        "id": "-yyAYy5l9V0L"
      },
      "source": [
        "### Using a GPU"
      ]
    },
    {
      "cell_type": "markdown",
      "metadata": {
        "id": "TcdBegOH-9Y_"
      },
      "source": [
        "First we check whether CUDA is available or not."
      ]
    },
    {
      "cell_type": "code",
      "metadata": {
        "colab": {
          "base_uri": "https://localhost:8080/"
        },
        "id": "zyccyIQg_BCX",
        "outputId": "153baa27-cf15-459b-a6d4-85a64a7444d4"
      },
      "source": [
        "torch.cuda.is_available()"
      ],
      "execution_count": 8,
      "outputs": [
        {
          "output_type": "execute_result",
          "data": {
            "text/plain": [
              "True"
            ]
          },
          "metadata": {
            "tags": []
          },
          "execution_count": 8
        }
      ]
    },
    {
      "cell_type": "markdown",
      "metadata": {
        "id": "zriacG86_GwJ"
      },
      "source": [
        "Function to get GPU device if available, else CPU."
      ]
    },
    {
      "cell_type": "code",
      "metadata": {
        "id": "4thx-nNl_NMW"
      },
      "source": [
        "def get_default_device():\n",
        "  if(torch.cuda.is_available()):\n",
        "    return torch.device('cuda')\n",
        "  else:\n",
        "    return torch.device('cpu')"
      ],
      "execution_count": 9,
      "outputs": []
    },
    {
      "cell_type": "code",
      "metadata": {
        "colab": {
          "base_uri": "https://localhost:8080/"
        },
        "id": "5zSj29go_bXg",
        "outputId": "eaa9828d-f465-401d-e279-c29d2f78e8db"
      },
      "source": [
        "device = get_default_device()\n",
        "device"
      ],
      "execution_count": 10,
      "outputs": [
        {
          "output_type": "execute_result",
          "data": {
            "text/plain": [
              "device(type='cuda')"
            ]
          },
          "metadata": {
            "tags": []
          },
          "execution_count": 10
        }
      ]
    },
    {
      "cell_type": "markdown",
      "metadata": {
        "id": "7o7Fa6n1_exg"
      },
      "source": [
        "Function fo move data and model to the available device."
      ]
    },
    {
      "cell_type": "code",
      "metadata": {
        "id": "7RWD37_0_ltT"
      },
      "source": [
        "def to_device(data, device):\n",
        "  # If data is list or tuple, perform to_device for each element\n",
        "  if(isinstance(data, (list, tuple))):\n",
        "    return([to_device(x, device) for x in data])\n",
        "    \n",
        "  return data.to(device, non_blocking = True)"
      ],
      "execution_count": 13,
      "outputs": []
    },
    {
      "cell_type": "code",
      "metadata": {
        "colab": {
          "base_uri": "https://localhost:8080/"
        },
        "id": "YOVDyhP1AMCD",
        "outputId": "a8bc9d23-1174-4ce2-d8be-33c83aa874a3"
      },
      "source": [
        "# Example of moving data to device\n",
        "to_device(torch.Tensor([1,2,3]), device)"
      ],
      "execution_count": 12,
      "outputs": [
        {
          "output_type": "execute_result",
          "data": {
            "text/plain": [
              "tensor([1., 2., 3.], device='cuda:0')"
            ]
          },
          "metadata": {
            "tags": []
          },
          "execution_count": 12
        }
      ]
    },
    {
      "cell_type": "code",
      "metadata": {
        "colab": {
          "base_uri": "https://localhost:8080/"
        },
        "id": "q9OgiGanA2R4",
        "outputId": "6175579c-eece-424e-dbae-ac57a4ff5ee3"
      },
      "source": [
        "for images, labels in train_loader:\n",
        "  images = to_device(images, device)\n",
        "  print(images.device)\n",
        "  break"
      ],
      "execution_count": 24,
      "outputs": [
        {
          "output_type": "stream",
          "text": [
            "cuda:0\n"
          ],
          "name": "stdout"
        }
      ]
    },
    {
      "cell_type": "markdown",
      "metadata": {
        "id": "rb-qE3WiBWJt"
      },
      "source": [
        "We define a `DeviceDataLoader` class to wrap our existing data loaders and move batches of data to the selected device. \n",
        "\n",
        "We don't need to extend an existing class to create a PyTorch dataloader. All we need is an `__iter__` method to retrieve batches of data and an `__len__` method to get the number of batches."
      ]
    },
    {
      "cell_type": "code",
      "metadata": {
        "id": "1CR8RM54Bom4"
      },
      "source": [
        "class DeviceDataLoader():\n",
        "  def __init__(self, dl, device):\n",
        "    self.dl = dl\n",
        "    self.device = device\n",
        "\n",
        "  def __iter__(self):\n",
        "    for batch in self.dl:\n",
        "      yield to_device(batch, self.device)\n",
        "\n",
        "  def __len__(self):\n",
        "    return(len(self.dl))"
      ],
      "execution_count": 25,
      "outputs": []
    },
    {
      "cell_type": "markdown",
      "metadata": {
        "id": "0HCe7h_-DsXL"
      },
      "source": [
        "We can now wrap our data loaders using `DeviceDataLoader`."
      ]
    },
    {
      "cell_type": "code",
      "metadata": {
        "id": "J5_-FfNMDtks"
      },
      "source": [
        "train_loader = DeviceDataLoader(train_loader, device)\n",
        "val_loader = DeviceDataLoader(val_loader, device)"
      ],
      "execution_count": 28,
      "outputs": []
    },
    {
      "cell_type": "markdown",
      "metadata": {
        "id": "TBbU7YcYD-Ub"
      },
      "source": [
        "Let us check the device of these dataloaders."
      ]
    },
    {
      "cell_type": "code",
      "metadata": {
        "colab": {
          "base_uri": "https://localhost:8080/"
        },
        "id": "r4i1qJWuECoa",
        "outputId": "a89d0dbd-22e6-4851-c0eb-1d4ee44eb91b"
      },
      "source": [
        "for im, lb in train_loader:\n",
        "  print(im.device)\n",
        "  print(lb)\n",
        "  break\n",
        "\n",
        "for im, lb in val_loader:\n",
        "  print(im.device)\n",
        "  print(lb)\n",
        "  break"
      ],
      "execution_count": 31,
      "outputs": [
        {
          "output_type": "stream",
          "text": [
            "cuda:0\n",
            "tensor([7, 1, 4,  ..., 3, 5, 8], device='cuda:0')\n",
            "cuda:0\n",
            "tensor([1, 5, 6,  ..., 2, 5, 3], device='cuda:0')\n"
          ],
          "name": "stdout"
        }
      ]
    },
    {
      "cell_type": "markdown",
      "metadata": {
        "id": "a4j-BpSo9V0L"
      },
      "source": [
        "### Training"
      ]
    },
    {
      "cell_type": "code",
      "metadata": {
        "id": "2LXmFpXf9V0L"
      },
      "source": [
        "# Utility function to train the model\n",
        "\n",
        "def fit(epochs, model, train_loader, val_loader):\n",
        "    print(\"Training\")\n",
        "    \n",
        "    # For recording epoch wise results\n",
        "    history = []\n",
        "    \n",
        "    for i in range(epochs):\n",
        "        for batch in train_loader:\n",
        "            \n",
        "            # Make prediction & Calculate loss\n",
        "            loss = model.training_step(batch)\n",
        "            \n",
        "            # Compute gradients\n",
        "            loss.backward()\n",
        "            \n",
        "            # Update parameters using gradients\n",
        "            model.opt.step()\n",
        "            \n",
        "            # Reset gradients to zero\n",
        "            model.opt.zero_grad()\n",
        "            \n",
        "        ## Validation phase \n",
        "        result = evaluate(model, val_loader)\n",
        "        model.epoch_end(i, result)\n",
        "        history.append(result)\n",
        "            \n",
        "    return history"
      ],
      "execution_count": 32,
      "outputs": []
    },
    {
      "cell_type": "code",
      "metadata": {
        "id": "hFDevuO09V0M"
      },
      "source": [
        "def evaluate(model, val_loader):\n",
        "    \n",
        "    # List containing evaluations for every batch\n",
        "    outputs = [model.validation_step(batch) for batch in val_loader]\n",
        "    \n",
        "    return model.validation_epoch_end(outputs)"
      ],
      "execution_count": 33,
      "outputs": []
    },
    {
      "cell_type": "markdown",
      "metadata": {
        "id": "EhetHT4B9V0M"
      },
      "source": [
        "### Creating and training model"
      ]
    },
    {
      "cell_type": "code",
      "metadata": {
        "colab": {
          "base_uri": "https://localhost:8080/"
        },
        "id": "0y-8QjDr9V0M",
        "outputId": "2b48ffef-184b-449e-ec8a-7151694c2db6"
      },
      "source": [
        "# Hyperparameters\n",
        "hidden_size = 32\n",
        "loss_func = F.cross_entropy\n",
        "learning_rate = 0.1\n",
        "\n",
        "# Create model\n",
        "model = Model(input_size = input_size, hidden_size = hidden_size, out_size = num_classes, \n",
        "              loss_func = loss_func, \n",
        "              learning_rate = learning_rate)\n",
        "\n",
        "# Moving model to device\n",
        "to_device(model, device)"
      ],
      "execution_count": 34,
      "outputs": [
        {
          "output_type": "execute_result",
          "data": {
            "text/plain": [
              "Model(\n",
              "  (linear1): Linear(in_features=784, out_features=32, bias=True)\n",
              "  (linear2): Linear(in_features=32, out_features=10, bias=True)\n",
              ")"
            ]
          },
          "metadata": {
            "tags": []
          },
          "execution_count": 34
        }
      ]
    },
    {
      "cell_type": "code",
      "metadata": {
        "colab": {
          "base_uri": "https://localhost:8080/"
        },
        "id": "I7LC8R5A9V0N",
        "outputId": "edea4813-cb2b-447c-849a-f89f94571f02"
      },
      "source": [
        "history = fit(30, model, train_loader, val_loader)"
      ],
      "execution_count": 35,
      "outputs": [
        {
          "output_type": "stream",
          "text": [
            "Training\n",
            "Epoch [0], val_loss: 2.2256, val_acc: 0.3353\n",
            "Epoch [1], val_loss: 2.1293, val_acc: 0.4605\n",
            "Epoch [2], val_loss: 2.0169, val_acc: 0.5459\n",
            "Epoch [3], val_loss: 1.8884, val_acc: 0.6247\n",
            "Epoch [4], val_loss: 1.7468, val_acc: 0.6777\n",
            "Epoch [5], val_loss: 1.5971, val_acc: 0.7094\n",
            "Epoch [6], val_loss: 1.4476, val_acc: 0.7277\n",
            "Epoch [7], val_loss: 1.3087, val_acc: 0.7403\n",
            "Epoch [8], val_loss: 1.1865, val_acc: 0.7508\n",
            "Epoch [9], val_loss: 1.0827, val_acc: 0.7648\n",
            "Epoch [10], val_loss: 0.9955, val_acc: 0.7788\n",
            "Epoch [11], val_loss: 0.9230, val_acc: 0.7898\n",
            "Epoch [12], val_loss: 0.8622, val_acc: 0.8002\n",
            "Epoch [13], val_loss: 0.8108, val_acc: 0.8109\n",
            "Epoch [14], val_loss: 0.7667, val_acc: 0.8187\n",
            "Epoch [15], val_loss: 0.7286, val_acc: 0.8248\n",
            "Epoch [16], val_loss: 0.6954, val_acc: 0.8336\n",
            "Epoch [17], val_loss: 0.6664, val_acc: 0.8414\n",
            "Epoch [18], val_loss: 0.6406, val_acc: 0.8481\n",
            "Epoch [19], val_loss: 0.6177, val_acc: 0.8524\n",
            "Epoch [20], val_loss: 0.5972, val_acc: 0.8570\n",
            "Epoch [21], val_loss: 0.5788, val_acc: 0.8588\n",
            "Epoch [22], val_loss: 0.5623, val_acc: 0.8621\n",
            "Epoch [23], val_loss: 0.5473, val_acc: 0.8653\n",
            "Epoch [24], val_loss: 0.5336, val_acc: 0.8673\n",
            "Epoch [25], val_loss: 0.5211, val_acc: 0.8690\n",
            "Epoch [26], val_loss: 0.5098, val_acc: 0.8699\n",
            "Epoch [27], val_loss: 0.4992, val_acc: 0.8740\n",
            "Epoch [28], val_loss: 0.4897, val_acc: 0.8750\n",
            "Epoch [29], val_loss: 0.4809, val_acc: 0.8767\n"
          ],
          "name": "stdout"
        }
      ]
    },
    {
      "cell_type": "markdown",
      "metadata": {
        "id": "uruEIDlA9V0N"
      },
      "source": [
        "Now we plot the evaluation metrics for all epochs."
      ]
    },
    {
      "cell_type": "code",
      "metadata": {
        "id": "xTfm-yDX9V0N"
      },
      "source": [
        "losses = [l['val_loss'] for l in history]\n",
        "acc = [a['val_acc'] for a in history]"
      ],
      "execution_count": 36,
      "outputs": []
    },
    {
      "cell_type": "code",
      "metadata": {
        "colab": {
          "base_uri": "https://localhost:8080/",
          "height": 241
        },
        "id": "MOqP0cc7FPb4",
        "outputId": "a4018bc4-f53c-4a8d-e7fc-008669e30988"
      },
      "source": [
        "fig, axes = plt.subplots(1, 2, figsize=(10,3))\n",
        "\n",
        "axes[0].plot(losses, '-o')\n",
        "axes[0].set_xlabel(\"Epochs\")\n",
        "axes[0].set_ylabel(\"Cross Entropy\")\n",
        "axes[0].set_title(\"Validation losses\")\n",
        "\n",
        "axes[1].plot(acc, '-o')\n",
        "axes[1].set_xlabel(\"Epochs\")\n",
        "axes[1].set_ylabel(\"Accuracy\")\n",
        "axes[1].set_title(\"Validation accuracies\")\n",
        "plt.show()"
      ],
      "execution_count": 37,
      "outputs": [
        {
          "output_type": "display_data",
          "data": {
            "image/png": "[encoded data removed]",
            "text/plain": [
              "<Figure size 720x216 with 2 Axes>"
            ]
          },
          "metadata": {
            "tags": [],
            "needs_background": "light"
          }
        }
      ]
    },
    {
      "cell_type": "markdown",
      "metadata": {
        "id": "U7BwI2e49V0O"
      },
      "source": [
        "### Checking model performance on test dataset"
      ]
    },
    {
      "cell_type": "code",
      "metadata": {
        "colab": {
          "base_uri": "https://localhost:8080/"
        },
        "id": "KXtZrfhU9V0G",
        "outputId": "f08d927e-330a-4c5b-a49a-3eb3d342009e"
      },
      "source": [
        "# Testing dataset\n",
        "\n",
        "test_dataset = MNIST(root='data/', train=False, transform=transforms.ToTensor())\n",
        "len(test_dataset)"
      ],
      "execution_count": 50,
      "outputs": [
        {
          "output_type": "execute_result",
          "data": {
            "text/plain": [
              "10000"
            ]
          },
          "metadata": {
            "tags": []
          },
          "execution_count": 50
        }
      ]
    },
    {
      "cell_type": "code",
      "metadata": {
        "id": "GEcHdTWTHAwy"
      },
      "source": [
        "def predict_image(img, model):\n",
        "    xb = to_device(img.unsqueeze(0), device)\n",
        "    yb = model(xb)\n",
        "    _, preds  = torch.max(yb, dim=1)\n",
        "    return preds[0].item()"
      ],
      "execution_count": null,
      "outputs": []
    },
    {
      "cell_type": "code",
      "metadata": {
        "id": "-edqPWtN9V0O"
      },
      "source": [
        "test_loader = DeviceDataLoader(DataLoader(test_dataset, batch_size), device)"
      ],
      "execution_count": 57,
      "outputs": []
    },
    {
      "cell_type": "code",
      "metadata": {
        "colab": {
          "base_uri": "https://localhost:8080/"
        },
        "id": "P4OXjzzc9V0O",
        "outputId": "7e77e267-9add-4655-dd6a-b78b5de05c67"
      },
      "source": [
        "result = evaluate(model, test_loader)\n",
        "print(\"Test Loss = {:.4f}, Test accuracy = {:.4F}\".format(result['val_loss'], result['val_acc']))"
      ],
      "execution_count": 58,
      "outputs": [
        {
          "output_type": "stream",
          "text": [
            "Test Loss = 0.4687, Test accuracy = 0.8797\n"
          ],
          "name": "stdout"
        }
      ]
    },
    {
      "cell_type": "code",
      "metadata": {
        "id": "VruKeDmWF6I-"
      },
      "source": [
        "for img, lab in test_loader:\n",
        "  test_labels = lab\n",
        "  test_output_probs = model(img)\n",
        "  break\n",
        "\n",
        "_, test_output = torch.max(test_output_probs, dim = 1)"
      ],
      "execution_count": 76,
      "outputs": []
    },
    {
      "cell_type": "markdown",
      "metadata": {
        "id": "lJ7UebBzKQel"
      },
      "source": [
        "Now we visualize the test images with their predicted labels."
      ]
    },
    {
      "cell_type": "code",
      "metadata": {
        "colab": {
          "base_uri": "https://localhost:8080/",
          "height": 311
        },
        "id": "RIrQEXfeJYwi",
        "outputId": "d46fb4d9-aa00-4b16-9ccb-439fafee8e7d"
      },
      "source": [
        "fig, axes = plt.subplots(2, 5, figsize=(12,5))\n",
        "\n",
        "for i in range(10):\n",
        "    axes[i//5, i%5].imshow(test_dataset[i][0][0,:,:], cmap='gray')\n",
        "    axes[i//5, i%5].set_title(test_output[i].item())\n",
        "    axes[i//5, i%5].axis(\"off\")"
      ],
      "execution_count": 92,
      "outputs": [
        {
          "output_type": "display_data",
          "data": {
            "image/png": "[encoded data removed]",
            "text/plain": [
              "<Figure size 864x360 with 10 Axes>"
            ]
          },
          "metadata": {
            "tags": [],
            "needs_background": "light"
          }
        }
      ]
    },
    {
      "cell_type": "code",
      "metadata": {
        "colab": {
          "base_uri": "https://localhost:8080/"
        },
        "id": "YdAQBDRsHvgk",
        "outputId": "3bd8022b-11b6-4763-9643-05c49d2a95e4"
      },
      "source": [
        "print(test_output[:10])\n",
        "print(test_labels[:10])"
      ],
      "execution_count": 95,
      "outputs": [
        {
          "output_type": "stream",
          "text": [
            "tensor([7, 2, 1, 0, 4, 1, 4, 9, 6, 9], device='cuda:0')\n",
            "tensor([7, 2, 1, 0, 4, 1, 4, 9, 5, 9], device='cuda:0')\n"
          ],
          "name": "stdout"
        }
      ]
    }
  ]
}