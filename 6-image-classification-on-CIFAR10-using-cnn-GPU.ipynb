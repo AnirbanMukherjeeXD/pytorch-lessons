{
  "nbformat": 4,
  "nbformat_minor": 0,
  "metadata": {
    "accelerator": "GPU",
    "colab": {
      "name": "6_image_classification_on_CIFAR10_using_cnn_GPU.ipynb",
      "provenance": [],
      "collapsed_sections": []
    },
    "kernelspec": {
      "display_name": "Python 3",
      "language": "python",
      "name": "python3"
    },
    "language_info": {
      "codemirror_mode": {
        "name": "ipython",
        "version": 3
      },
      "file_extension": ".py",
      "mimetype": "text/x-python",
      "name": "python",
      "nbconvert_exporter": "python",
      "pygments_lexer": "ipython3",
      "version": "3.7.1"
    },
    "widgets": {
      "application/vnd.jupyter.widget-state+json": {
        "dcba183bb9e14f1287d3fe7e006980a6": {
          "model_module": "@jupyter-widgets/controls",
          "model_name": "HBoxModel",
          "state": {
            "_view_name": "HBoxView",
            "_dom_classes": [],
            "_model_name": "HBoxModel",
            "_view_module": "@jupyter-widgets/controls",
            "_model_module_version": "1.5.0",
            "_view_count": null,
            "_view_module_version": "1.5.0",
            "box_style": "",
            "layout": "IPY_MODEL_8bca17f4567d4e06b527cb7be7ecd29c",
            "_model_module": "@jupyter-widgets/controls",
            "children": [
              "IPY_MODEL_a18156b29c074cc6ab34ed92e36bf042",
              "IPY_MODEL_c828bc444e354e5ba007a5e4142f81f2"
            ]
          }
        },
        "8bca17f4567d4e06b527cb7be7ecd29c": {
          "model_module": "@jupyter-widgets/base",
          "model_name": "LayoutModel",
          "state": {
            "_view_name": "LayoutView",
            "grid_template_rows": null,
            "right": null,
            "justify_content": null,
            "_view_module": "@jupyter-widgets/base",
            "overflow": null,
            "_model_module_version": "1.2.0",
            "_view_count": null,
            "flex_flow": null,
            "width": null,
            "min_width": null,
            "border": null,
            "align_items": null,
            "bottom": null,
            "_model_module": "@jupyter-widgets/base",
            "top": null,
            "grid_column": null,
            "overflow_y": null,
            "overflow_x": null,
            "grid_auto_flow": null,
            "grid_area": null,
            "grid_template_columns": null,
            "flex": null,
            "_model_name": "LayoutModel",
            "justify_items": null,
            "grid_row": null,
            "max_height": null,
            "align_content": null,
            "visibility": null,
            "align_self": null,
            "height": null,
            "min_height": null,
            "padding": null,
            "grid_auto_rows": null,
            "grid_gap": null,
            "max_width": null,
            "order": null,
            "_view_module_version": "1.2.0",
            "grid_template_areas": null,
            "object_position": null,
            "object_fit": null,
            "grid_auto_columns": null,
            "margin": null,
            "display": null,
            "left": null
          }
        },
        "a18156b29c074cc6ab34ed92e36bf042": {
          "model_module": "@jupyter-widgets/controls",
          "model_name": "FloatProgressModel",
          "state": {
            "_view_name": "ProgressView",
            "style": "IPY_MODEL_33d9b98b981140e1995502353d456c68",
            "_dom_classes": [],
            "description": "",
            "_model_name": "FloatProgressModel",
            "bar_style": "success",
            "max": 135107811,
            "_view_module": "@jupyter-widgets/controls",
            "_model_module_version": "1.5.0",
            "value": 135107811,
            "_view_count": null,
            "_view_module_version": "1.5.0",
            "orientation": "horizontal",
            "min": 0,
            "description_tooltip": null,
            "_model_module": "@jupyter-widgets/controls",
            "layout": "IPY_MODEL_615882c7c7cb4beda571136d0bbbf04c"
          }
        },
        "c828bc444e354e5ba007a5e4142f81f2": {
          "model_module": "@jupyter-widgets/controls",
          "model_name": "HTMLModel",
          "state": {
            "_view_name": "HTMLView",
            "style": "IPY_MODEL_2db97e2d7e9a41d09988329a507e3eac",
            "_dom_classes": [],
            "description": "",
            "_model_name": "HTMLModel",
            "placeholder": "​",
            "_view_module": "@jupyter-widgets/controls",
            "_model_module_version": "1.5.0",
            "value": " 135108608/? [01:19&lt;00:00, 1697440.16it/s]",
            "_view_count": null,
            "_view_module_version": "1.5.0",
            "description_tooltip": null,
            "_model_module": "@jupyter-widgets/controls",
            "layout": "IPY_MODEL_9977b91e2d4e4a22acefebd414c15373"
          }
        },
        "33d9b98b981140e1995502353d456c68": {
          "model_module": "@jupyter-widgets/controls",
          "model_name": "ProgressStyleModel",
          "state": {
            "_view_name": "StyleView",
            "_model_name": "ProgressStyleModel",
            "description_width": "initial",
            "_view_module": "@jupyter-widgets/base",
            "_model_module_version": "1.5.0",
            "_view_count": null,
            "_view_module_version": "1.2.0",
            "bar_color": null,
            "_model_module": "@jupyter-widgets/controls"
          }
        },
        "615882c7c7cb4beda571136d0bbbf04c": {
          "model_module": "@jupyter-widgets/base",
          "model_name": "LayoutModel",
          "state": {
            "_view_name": "LayoutView",
            "grid_template_rows": null,
            "right": null,
            "justify_content": null,
            "_view_module": "@jupyter-widgets/base",
            "overflow": null,
            "_model_module_version": "1.2.0",
            "_view_count": null,
            "flex_flow": null,
            "width": null,
            "min_width": null,
            "border": null,
            "align_items": null,
            "bottom": null,
            "_model_module": "@jupyter-widgets/base",
            "top": null,
            "grid_column": null,
            "overflow_y": null,
            "overflow_x": null,
            "grid_auto_flow": null,
            "grid_area": null,
            "grid_template_columns": null,
            "flex": null,
            "_model_name": "LayoutModel",
            "justify_items": null,
            "grid_row": null,
            "max_height": null,
            "align_content": null,
            "visibility": null,
            "align_self": null,
            "height": null,
            "min_height": null,
            "padding": null,
            "grid_auto_rows": null,
            "grid_gap": null,
            "max_width": null,
            "order": null,
            "_view_module_version": "1.2.0",
            "grid_template_areas": null,
            "object_position": null,
            "object_fit": null,
            "grid_auto_columns": null,
            "margin": null,
            "display": null,
            "left": null
          }
        },
        "2db97e2d7e9a41d09988329a507e3eac": {
          "model_module": "@jupyter-widgets/controls",
          "model_name": "DescriptionStyleModel",
          "state": {
            "_view_name": "StyleView",
            "_model_name": "DescriptionStyleModel",
            "description_width": "",
            "_view_module": "@jupyter-widgets/base",
            "_model_module_version": "1.5.0",
            "_view_count": null,
            "_view_module_version": "1.2.0",
            "_model_module": "@jupyter-widgets/controls"
          }
        },
        "9977b91e2d4e4a22acefebd414c15373": {
          "model_module": "@jupyter-widgets/base",
          "model_name": "LayoutModel",
          "state": {
            "_view_name": "LayoutView",
            "grid_template_rows": null,
            "right": null,
            "justify_content": null,
            "_view_module": "@jupyter-widgets/base",
            "overflow": null,
            "_model_module_version": "1.2.0",
            "_view_count": null,
            "flex_flow": null,
            "width": null,
            "min_width": null,
            "border": null,
            "align_items": null,
            "bottom": null,
            "_model_module": "@jupyter-widgets/base",
            "top": null,
            "grid_column": null,
            "overflow_y": null,
            "overflow_x": null,
            "grid_auto_flow": null,
            "grid_area": null,
            "grid_template_columns": null,
            "flex": null,
            "_model_name": "LayoutModel",
            "justify_items": null,
            "grid_row": null,
            "max_height": null,
            "align_content": null,
            "visibility": null,
            "align_self": null,
            "height": null,
            "min_height": null,
            "padding": null,
            "grid_auto_rows": null,
            "grid_gap": null,
            "max_width": null,
            "order": null,
            "_view_module_version": "1.2.0",
            "grid_template_areas": null,
            "object_position": null,
            "object_fit": null,
            "grid_auto_columns": null,
            "margin": null,
            "display": null,
            "left": null
          }
        }
      }
    }
  },
  "cells": [
    {
      "cell_type": "code",
      "metadata": {
        "id": "7wY79S7O9V0A"
      },
      "source": [
        "import torch\n",
        "import torch.nn as nn\n",
        "import torch.nn.functional as F\n",
        "from torch.utils.data import random_split, DataLoader\n",
        "\n",
        "from torchvision.datasets import ImageFolder\n",
        "import torchvision.transforms as transforms\n",
        "from torchvision.datasets.utils import download_url\n",
        "from torchvision.utils import make_grid\n",
        "\n",
        "import matplotlib.pyplot as plt\n",
        "import tarfile\n",
        "import os"
      ],
      "execution_count": 1,
      "outputs": []
    },
    {
      "cell_type": "markdown",
      "metadata": {
        "id": "8r1nQURd9V0D"
      },
      "source": [
        "## Exploring MNIST dataset"
      ]
    },
    {
      "cell_type": "markdown",
      "metadata": {
        "id": "CpeBQdeF9V0E"
      },
      "source": [
        "### Downloading/Loading CIFAR10 "
      ]
    },
    {
      "cell_type": "code",
      "metadata": {
        "colab": {
          "base_uri": "https://localhost:8080/",
          "height": 85,
          "referenced_widgets": [
            "dcba183bb9e14f1287d3fe7e006980a6",
            "8bca17f4567d4e06b527cb7be7ecd29c",
            "a18156b29c074cc6ab34ed92e36bf042",
            "c828bc444e354e5ba007a5e4142f81f2",
            "33d9b98b981140e1995502353d456c68",
            "615882c7c7cb4beda571136d0bbbf04c",
            "2db97e2d7e9a41d09988329a507e3eac",
            "9977b91e2d4e4a22acefebd414c15373"
          ]
        },
        "id": "9QdY7GeM9V0H",
        "outputId": "39b8756a-06ca-4f99-fd03-b52b657e8049"
      },
      "source": [
        "# Dowload the dataset\n",
        "dataset_url = \"https://s3.amazonaws.com/fast-ai-imageclas/cifar10.tgz\"\n",
        "download_url(dataset_url, '.')"
      ],
      "execution_count": 2,
      "outputs": [
        {
          "output_type": "stream",
          "text": [
            "Downloading https://s3.amazonaws.com/fast-ai-imageclas/cifar10.tgz to ./cifar10.tgz\n"
          ],
          "name": "stdout"
        },
        {
          "output_type": "display_data",
          "data": {
            "application/vnd.jupyter.widget-view+json": {
              "model_id": "dcba183bb9e14f1287d3fe7e006980a6",
              "version_minor": 0,
              "version_major": 2
            },
            "text/plain": [
              "HBox(children=(FloatProgress(value=0.0, max=135107811.0), HTML(value='')))"
            ]
          },
          "metadata": {
            "tags": []
          }
        },
        {
          "output_type": "stream",
          "text": [
            "\n"
          ],
          "name": "stdout"
        }
      ]
    },
    {
      "cell_type": "code",
      "metadata": {
        "id": "YEtKUgUJP_Cj"
      },
      "source": [
        "# Extract from archive\n",
        "with tarfile.open('./cifar10.tgz', 'r:gz') as tar:\n",
        "    tar.extractall(path='./data')"
      ],
      "execution_count": 3,
      "outputs": []
    },
    {
      "cell_type": "code",
      "metadata": {
        "colab": {
          "base_uri": "https://localhost:8080/"
        },
        "id": "xOQELkX_9V0F",
        "outputId": "7dee560c-633b-4178-8ee2-e4fca16ae137"
      },
      "source": [
        "# Viewing the data\n",
        "data_dir = './data/cifar10'\n",
        "print(\"Directories: \", os.listdir(data_dir))\n",
        "classes = os.listdir(data_dir + \"/train\")\n",
        "print(\"Classes: \", classes)"
      ],
      "execution_count": 2,
      "outputs": [
        {
          "output_type": "stream",
          "text": [
            "Directories:  ['train', 'test']\n",
            "Classes:  ['frog', 'horse', 'airplane', 'dog', 'deer', 'automobile', 'cat', 'truck', 'ship', 'bird']\n"
          ],
          "name": "stdout"
        }
      ]
    },
    {
      "cell_type": "markdown",
      "metadata": {
        "id": "ySiqzXUwP_Cl"
      },
      "source": [
        "Checking some of the contents of the folders"
      ]
    },
    {
      "cell_type": "code",
      "metadata": {
        "colab": {
          "base_uri": "https://localhost:8080/"
        },
        "id": "qyFoiHzIP_Cl",
        "outputId": "532dccdf-4a67-4c01-e2c3-cefff88d1564"
      },
      "source": [
        "airplane_files = os.listdir(data_dir + \"/train/airplane\")\n",
        "print('No. of training examples for airplanes:', len(airplane_files))\n",
        "print(airplane_files[:5])"
      ],
      "execution_count": 5,
      "outputs": [
        {
          "output_type": "stream",
          "text": [
            "No. of training examples for airplanes: 5000\n",
            "['3776.png', '0676.png', '0690.png', '3704.png', '0494.png']\n"
          ],
          "name": "stdout"
        }
      ]
    },
    {
      "cell_type": "markdown",
      "metadata": {
        "id": "--89Yi_jP_Cm"
      },
      "source": [
        "The above directory structure of one folder per class is used by many computer vision datasets, so the `torchvision.ImageFolder` class from  is used to load such a dataset as PyTorch tensors."
      ]
    },
    {
      "cell_type": "code",
      "metadata": {
        "colab": {
          "base_uri": "https://localhost:8080/"
        },
        "id": "y6C8CqBIP_Cn",
        "outputId": "ebd5fedc-d971-4c67-aa18-a46de23dd7d2"
      },
      "source": [
        "dataset = ImageFolder(data_dir+'/train', transform=transforms.ToTensor())\n",
        "dataset"
      ],
      "execution_count": 3,
      "outputs": [
        {
          "output_type": "execute_result",
          "data": {
            "text/plain": [
              "Dataset ImageFolder\n",
              "    Number of datapoints: 50000\n",
              "    Root location: ./data/cifar10/train\n",
              "    StandardTransform\n",
              "Transform: ToTensor()"
            ]
          },
          "metadata": {
            "tags": []
          },
          "execution_count": 3
        }
      ]
    },
    {
      "cell_type": "markdown",
      "metadata": {
        "id": "7MQ-E8BU9V0G"
      },
      "source": [
        "Plotting first 10 images in the dataset along with their target labels.\n",
        "\n",
        "```torch.permute()``` rearranges the original tensor according to the desired ordering and returns a new multidimensional rotated tensor. We use this to change the dimensions from (3, 32, 32) to (32, 32, 3)."
      ]
    },
    {
      "cell_type": "code",
      "metadata": {
        "colab": {
          "base_uri": "https://localhost:8080/",
          "height": 311
        },
        "id": "E_62393wKrFt",
        "outputId": "5fda3abf-4831-4e3f-efe5-65e1546ef819"
      },
      "source": [
        "fig, axes = plt.subplots(2, 5, figsize=(12,5))\n",
        "\n",
        "for i in range(10):\n",
        "    axes[i//5, i%5].imshow(dataset[i*5000][0].permute(1, 2, 0))\n",
        "    axes[i//5, i%5].set_title(dataset.classes[dataset[i*5000][1]])\n",
        "    axes[i//5, i%5].axis(\"off\")"
      ],
      "execution_count": 8,
      "outputs": [
        {
          "output_type": "display_data",
          "data": {
            "image/png": "[encoded data removed]",
            "text/plain": [
              "<Figure size 864x360 with 10 Axes>"
            ]
          },
          "metadata": {
            "tags": [],
            "needs_background": "light"
          }
        }
      ]
    },
    {
      "cell_type": "markdown",
      "metadata": {
        "id": "zvLvDW9ATQcV"
      },
      "source": [
        "### Selecting part of dataset"
      ]
    },
    {
      "cell_type": "code",
      "metadata": {
        "colab": {
          "base_uri": "https://localhost:8080/"
        },
        "id": "caB-vVUsTYv9",
        "outputId": "d24e88d3-1b4b-408d-e3aa-680a2be9dc52"
      },
      "source": [
        "split = (100/100)\n",
        "\n",
        "selected_size = int(len(dataset) * split)\n",
        "removed_size = len(dataset) - selected_size\n",
        "dataset, _ = random_split(dataset, [selected_size, removed_size])\n",
        "\n",
        "print(len(dataset))"
      ],
      "execution_count": 4,
      "outputs": [
        {
          "output_type": "stream",
          "text": [
            "50000\n"
          ],
          "name": "stdout"
        }
      ]
    },
    {
      "cell_type": "markdown",
      "metadata": {
        "id": "Kk0CZtVf9V0I"
      },
      "source": [
        "### Splitting dataset to training and validation"
      ]
    },
    {
      "cell_type": "code",
      "metadata": {
        "id": "w0cf1tCo9V0I"
      },
      "source": [
        "val_split = (1/10)\n",
        "\n",
        "val_size = int(len(dataset) * val_split)\n",
        "train_size = len(dataset) - val_size"
      ],
      "execution_count": 5,
      "outputs": []
    },
    {
      "cell_type": "code",
      "metadata": {
        "colab": {
          "base_uri": "https://localhost:8080/"
        },
        "id": "zXNerbIG9V0I",
        "outputId": "7f27ed83-e1a2-43d8-e1f8-abd2e58eef95"
      },
      "source": [
        "train_set, val_set = random_split(dataset, [train_size, val_size])\n",
        "\n",
        "print(len(train_set), len(val_set))"
      ],
      "execution_count": 6,
      "outputs": [
        {
          "output_type": "stream",
          "text": [
            "45000 5000\n"
          ],
          "name": "stdout"
        }
      ]
    },
    {
      "cell_type": "markdown",
      "metadata": {
        "id": "mai-iOyQ9V0J"
      },
      "source": [
        "### Creating dataloader"
      ]
    },
    {
      "cell_type": "code",
      "metadata": {
        "id": "rXlOqnMr9V0J"
      },
      "source": [
        "batch_size = 32\n",
        "\n",
        "train_dl = DataLoader(train_set, batch_size, shuffle=True)\n",
        "val_dl = DataLoader(val_set, batch_size)"
      ],
      "execution_count": 7,
      "outputs": []
    },
    {
      "cell_type": "markdown",
      "metadata": {
        "id": "Z8IpAFdJP_Cs"
      },
      "source": [
        "We can look at batches of images from the dataset using the `torchvision.utils.make_grid` method.\n",
        "\n",
        "Each time the following code is run, we get a different bach, since the sampler shuffles the indices before creating batches."
      ]
    },
    {
      "cell_type": "code",
      "metadata": {
        "id": "o6TfdS1FP_Cs"
      },
      "source": [
        "def show_batch(dl):\n",
        "    for images, labels in dl:\n",
        "        fig, ax = plt.subplots(figsize=(12, 6))\n",
        "        ax.set_xticks([]); ax.set_yticks([])\n",
        "        ax.imshow(make_grid(images, nrow=16).permute(1, 2, 0))\n",
        "        break"
      ],
      "execution_count": 8,
      "outputs": []
    },
    {
      "cell_type": "code",
      "metadata": {
        "colab": {
          "base_uri": "https://localhost:8080/",
          "height": 120
        },
        "id": "UIzEkeUDP_Ct",
        "outputId": "656fd7a5-90bc-4430-fa3e-d6c3a7d9753a"
      },
      "source": [
        "show_batch(train_dl)"
      ],
      "execution_count": 9,
      "outputs": [
        {
          "output_type": "display_data",
          "data": {
            "image/png": "[encoded data removed]",
            "text/plain": [
              "<Figure size 864x432 with 1 Axes>"
            ]
          },
          "metadata": {
            "tags": []
          }
        }
      ]
    },
    {
      "cell_type": "markdown",
      "metadata": {
        "id": "hTmqm-0WP_Ct"
      },
      "source": [
        "## CNN Model"
      ]
    },
    {
      "cell_type": "markdown",
      "metadata": {
        "id": "un0b8YPY9V0J"
      },
      "source": [
        "### Defining model a sample CNN model"
      ]
    },
    {
      "cell_type": "code",
      "metadata": {
        "id": "87QucK_bP_Ct"
      },
      "source": [
        "simple_model = nn.Sequential(\n",
        "    # Input channel = 3, output channel =32 \n",
        "    nn.Conv2d(3, 8, kernel_size=3, stride=1, padding=1),\n",
        "    nn.MaxPool2d(2, 2)\n",
        ")"
      ],
      "execution_count": 10,
      "outputs": []
    },
    {
      "cell_type": "code",
      "metadata": {
        "colab": {
          "base_uri": "https://localhost:8080/"
        },
        "id": "PNcK_DOmP_Ct",
        "outputId": "a2d581e4-6d62-4c95-eeb5-773ed6f10c71"
      },
      "source": [
        "for images, labels in train_dl:\n",
        "    print('images.shape:', images.shape)\n",
        "    with torch.no_grad():\n",
        "        out = simple_model(images)\n",
        "    print('out.shape:', out.shape)\n",
        "    break"
      ],
      "execution_count": 11,
      "outputs": [
        {
          "output_type": "stream",
          "text": [
            "images.shape: torch.Size([32, 3, 32, 32])\n",
            "out.shape: torch.Size([32, 8, 16, 16])\n"
          ],
          "name": "stdout"
        }
      ]
    },
    {
      "cell_type": "markdown",
      "metadata": {
        "id": "6lSkkUVxP_Cv"
      },
      "source": [
        "Visualizing the 8 channels of output for one image after passing through the convolution."
      ]
    },
    {
      "cell_type": "code",
      "metadata": {
        "id": "ob8m5MwjP_Cv",
        "outputId": "7a0c98a5-34d3-4c71-e17a-2df81fa8be06"
      },
      "source": [
        "fig, axes = plt.subplots(2, 4, figsize=(12,5))\n",
        "\n",
        "for i in range(8):\n",
        "    axes[i//4, i%4].imshow(out[3][i,:,:], cmap = 'gray')\n",
        "    axes[i//4, i%4].set_title(\"Channel {}\".format(i))\n",
        "    axes[i//4, i%4].axis(\"off\")"
      ],
      "execution_count": null,
      "outputs": [
        {
          "output_type": "display_data",
          "data": {
            "image/png": "[encoded data removed]",
            "text/plain": [
              "<Figure size 864x360 with 8 Axes>"
            ]
          },
          "metadata": {
            "tags": [],
            "needs_background": "light"
          }
        }
      ]
    },
    {
      "cell_type": "markdown",
      "metadata": {
        "id": "ZkCMlZ3wP_Cv"
      },
      "source": [
        "### Defining main CNN model"
      ]
    },
    {
      "cell_type": "code",
      "metadata": {
        "id": "ChYKbz7XP_Cv"
      },
      "source": [
        "class Model(torch.nn.Module):\n",
        "    def __init__(self):\n",
        "        super().__init__()\n",
        "        # Create Sequential network\n",
        "        self.network = nn.Sequential(\n",
        "            # Convolution layers\n",
        "            nn.Conv2d(3, 32, kernel_size=3, padding=1),\n",
        "            # Activation function\n",
        "            nn.ReLU(),\n",
        "            nn.Conv2d(32, 64, kernel_size=3, stride=1, padding=1),\n",
        "            nn.ReLU(),\n",
        "            # Max-pooling layer\n",
        "            nn.MaxPool2d(2, 2), # output: 64 x 16 x 16\n",
        "\n",
        "            nn.Conv2d(64, 128, kernel_size=3, stride=1, padding=1),\n",
        "            nn.ReLU(),\n",
        "            nn.Conv2d(128, 128, kernel_size=3, stride=1, padding=1),\n",
        "            nn.ReLU(),\n",
        "            nn.MaxPool2d(2, 2), # output: 128 x 8 x 8\n",
        "\n",
        "            nn.Conv2d(128, 256, kernel_size=3, stride=1, padding=1),\n",
        "            nn.ReLU(),\n",
        "            nn.Conv2d(256, 256, kernel_size=3, stride=1, padding=1),\n",
        "            nn.ReLU(),\n",
        "            nn.MaxPool2d(2, 2), # output: 256 x 4 x 4\n",
        "\n",
        "            nn.Flatten(), \n",
        "            nn.Linear(256 * 4 * 4, 1024),\n",
        "            nn.ReLU(),\n",
        "            nn.Linear(1024, 512),\n",
        "            nn.ReLU(),\n",
        "            nn.Linear(512, 10)\n",
        "        )\n",
        "            \n",
        "    ## Returns the value after forward pass\n",
        "    def forward(self, x):\n",
        "        return self.network(x)\n",
        "    \n",
        "    ## Returns loss for a training batch\n",
        "    def training_step(self, batch):\n",
        "        images, labels = batch \n",
        "        # Generate predictions\n",
        "        out = self(images)            \n",
        "        # Calculate loss\n",
        "        loss = F.cross_entropy(out, labels) \n",
        "        return loss\n",
        "    \n",
        "    ## Returns the loss and accuracy for a validation batch\n",
        "    def validation_step(self, val_batch):\n",
        "        images, labels = val_batch \n",
        "        \n",
        "        # Generate predictions\n",
        "        out = self(images)            \n",
        "        \n",
        "        # Calculate loss\n",
        "        val_loss = F.cross_entropy(out, labels) \n",
        "        val_acc = accuracy(out, labels)\n",
        "        \n",
        "        return {\"val_loss\":val_loss, \"val_acc\":val_acc}\n",
        "    \n",
        "    ## Returns mean loss and mean accuracy from the losses and accuracies of all the batches\n",
        "    def validation_epoch_end(self, outputs):\n",
        "        \n",
        "        # Losses for each batch\n",
        "        batch_losses = [x['val_loss'] for x in outputs]\n",
        "        \n",
        "        # Mean loss for all batch\n",
        "        batch_mean_loss = torch.tensor(batch_losses).mean()\n",
        "        \n",
        "        # Accuracies for each batches\n",
        "        batch_accs = [x['val_acc'] for x in outputs]\n",
        "        \n",
        "        # Mean accuracy for all batches\n",
        "        batch_mean_acc = torch.tensor(batch_accs).mean()\n",
        "        \n",
        "        return {\"val_loss\":batch_mean_loss, \"val_acc\":batch_mean_acc}\n",
        "    \n",
        "    ## Prints validation loss and accuracy for epoch (mean of all batches)\n",
        "    def epoch_end(self, epoch, result):\n",
        "        print(\"Epoch [{}], train_loss: {:.4f}, val_loss: {:.4f}, val_acc: {:.4f}\".format(epoch, result['train_loss'], result['val_loss'], result['val_acc']))"
      ],
      "execution_count": 13,
      "outputs": []
    },
    {
      "cell_type": "code",
      "metadata": {
        "id": "MGnTif0hP_Cv"
      },
      "source": [
        "# Accuracy\n",
        "def accuracy(outputs, labels):\n",
        "    _, preds = torch.max(outputs, dim=1)\n",
        "    return torch.tensor(torch.sum(preds == labels).item() / len(preds))"
      ],
      "execution_count": 14,
      "outputs": []
    },
    {
      "cell_type": "markdown",
      "metadata": {
        "id": "-yyAYy5l9V0L"
      },
      "source": [
        "### Using a GPU"
      ]
    },
    {
      "cell_type": "markdown",
      "metadata": {
        "id": "TcdBegOH-9Y_"
      },
      "source": [
        "First we check whether CUDA is available or not."
      ]
    },
    {
      "cell_type": "code",
      "metadata": {
        "colab": {
          "base_uri": "https://localhost:8080/"
        },
        "id": "zyccyIQg_BCX",
        "outputId": "e94cd1ba-0935-4e32-a982-52a045dafc63"
      },
      "source": [
        "torch.cuda.is_available()"
      ],
      "execution_count": 15,
      "outputs": [
        {
          "output_type": "execute_result",
          "data": {
            "text/plain": [
              "True"
            ]
          },
          "metadata": {
            "tags": []
          },
          "execution_count": 15
        }
      ]
    },
    {
      "cell_type": "markdown",
      "metadata": {
        "id": "zriacG86_GwJ"
      },
      "source": [
        "Function to get GPU device if available, else CPU."
      ]
    },
    {
      "cell_type": "code",
      "metadata": {
        "id": "4thx-nNl_NMW"
      },
      "source": [
        "def get_default_device():\n",
        "  if(torch.cuda.is_available()):\n",
        "    return torch.device('cuda')\n",
        "  else:\n",
        "    return torch.device('cpu')"
      ],
      "execution_count": 16,
      "outputs": []
    },
    {
      "cell_type": "code",
      "metadata": {
        "colab": {
          "base_uri": "https://localhost:8080/"
        },
        "id": "5zSj29go_bXg",
        "outputId": "dda32bf7-3da1-4326-9137-5478244066a2"
      },
      "source": [
        "device = get_default_device()\n",
        "device"
      ],
      "execution_count": 17,
      "outputs": [
        {
          "output_type": "execute_result",
          "data": {
            "text/plain": [
              "device(type='cuda')"
            ]
          },
          "metadata": {
            "tags": []
          },
          "execution_count": 17
        }
      ]
    },
    {
      "cell_type": "markdown",
      "metadata": {
        "id": "7o7Fa6n1_exg"
      },
      "source": [
        "Function fo move data and model to the available device."
      ]
    },
    {
      "cell_type": "code",
      "metadata": {
        "id": "7RWD37_0_ltT"
      },
      "source": [
        "def to_device(data, device):\n",
        "  # If data is list or tuple, perform to_device for each element\n",
        "  if(isinstance(data, (list, tuple))):\n",
        "    return([to_device(x, device) for x in data])\n",
        "    \n",
        "  return data.to(device, non_blocking = True)"
      ],
      "execution_count": 18,
      "outputs": []
    },
    {
      "cell_type": "code",
      "metadata": {
        "colab": {
          "base_uri": "https://localhost:8080/"
        },
        "id": "YOVDyhP1AMCD",
        "outputId": "94aedb4a-11ec-47f1-863f-ad54b45050fa"
      },
      "source": [
        "# Example of moving data to device\n",
        "to_device(torch.Tensor([1,2,3]), device)"
      ],
      "execution_count": 14,
      "outputs": [
        {
          "output_type": "execute_result",
          "data": {
            "text/plain": [
              "tensor([1., 2., 3.], device='cuda:0')"
            ]
          },
          "metadata": {
            "tags": []
          },
          "execution_count": 14
        }
      ]
    },
    {
      "cell_type": "code",
      "metadata": {
        "colab": {
          "base_uri": "https://localhost:8080/"
        },
        "id": "q9OgiGanA2R4",
        "outputId": "66c9324b-6232-45ab-e7b3-a48695b983c1"
      },
      "source": [
        "for images, labels in train_dl:\n",
        "  images = to_device(images, device)\n",
        "  print(images.device)\n",
        "  break"
      ],
      "execution_count": 112,
      "outputs": [
        {
          "output_type": "stream",
          "text": [
            "cuda:0\n"
          ],
          "name": "stdout"
        }
      ]
    },
    {
      "cell_type": "markdown",
      "metadata": {
        "id": "rb-qE3WiBWJt"
      },
      "source": [
        "We define a `DeviceDataLoader` class to wrap our existing data loaders and move batches of data to the selected device. \n",
        "\n",
        "We don't need to extend an existing class to create a PyTorch dataloader. All we need is an `__iter__` method to retrieve batches of data and an `__len__` method to get the number of batches."
      ]
    },
    {
      "cell_type": "code",
      "metadata": {
        "id": "1CR8RM54Bom4"
      },
      "source": [
        "class DeviceDataLoader():\n",
        "  def __init__(self, dl, device):\n",
        "    self.dl = dl\n",
        "    self.device = device\n",
        "\n",
        "  def __iter__(self):\n",
        "    for batch in self.dl:\n",
        "      yield to_device(batch, self.device)\n",
        "\n",
        "  def __len__(self):\n",
        "    return(len(self.dl))"
      ],
      "execution_count": 19,
      "outputs": []
    },
    {
      "cell_type": "markdown",
      "metadata": {
        "id": "0HCe7h_-DsXL"
      },
      "source": [
        "We can now wrap our data loaders using `DeviceDataLoader`."
      ]
    },
    {
      "cell_type": "code",
      "metadata": {
        "id": "J5_-FfNMDtks"
      },
      "source": [
        "train_dl = DeviceDataLoader(train_dl, device)\n",
        "val_dl = DeviceDataLoader(val_dl, device)"
      ],
      "execution_count": 20,
      "outputs": []
    },
    {
      "cell_type": "markdown",
      "metadata": {
        "id": "TBbU7YcYD-Ub"
      },
      "source": [
        "Let us check the device of these dataloaders."
      ]
    },
    {
      "cell_type": "code",
      "metadata": {
        "colab": {
          "base_uri": "https://localhost:8080/"
        },
        "id": "r4i1qJWuECoa",
        "outputId": "391a45af-8c2d-4a61-f5b3-21e830b3ecfb"
      },
      "source": [
        "for im, lb in train_dl:\n",
        "  print(im.device)\n",
        "  break\n",
        "\n",
        "for im, lb in val_dl:\n",
        "  print(im.device)\n",
        "  break"
      ],
      "execution_count": 21,
      "outputs": [
        {
          "output_type": "stream",
          "text": [
            "cuda:0\n",
            "cuda:0\n"
          ],
          "name": "stdout"
        }
      ]
    },
    {
      "cell_type": "markdown",
      "metadata": {
        "id": "a4j-BpSo9V0L"
      },
      "source": [
        "### Training function"
      ]
    },
    {
      "cell_type": "code",
      "metadata": {
        "id": "2LXmFpXf9V0L"
      },
      "source": [
        "# Utility function to train the model\n",
        "\n",
        "def fit(epochs, model, learning_rate, train_loader, val_loader):\n",
        "    print(\"Training\")\n",
        "    \n",
        "    # For recording epoch wise results\n",
        "    history = []\n",
        "    opt = torch.optim.Adam(model.parameters(), learning_rate)\n",
        "    \n",
        "    for i in range(epochs):\n",
        "        train_losses = []\n",
        "        model.train()\n",
        "        for batch in train_loader:\n",
        "            # Make prediction & Calculate loss\n",
        "            loss = model.training_step(batch)\n",
        "            \n",
        "            # Calculating loss, accuracy\n",
        "            train_losses.append(loss)\n",
        "            \n",
        "            # Compute gradients\n",
        "            loss.backward()\n",
        "            \n",
        "            # Update parameters using gradients\n",
        "            opt.step()\n",
        "            \n",
        "            # Reset gradients to zero\n",
        "            opt.zero_grad()\n",
        "            \n",
        "            \n",
        "            \n",
        "        ## Validation phase \n",
        "        model.eval()\n",
        "        train_loss = torch.stack(train_losses).mean().item() #torch.tensor(train_losses).mean()\n",
        "        \n",
        "        result = evaluate(model, val_loader)\n",
        "        result['train_loss'] = train_loss\n",
        "        model.epoch_end(i, result)\n",
        "        history.append(result)\n",
        "            \n",
        "    return history\n"
      ],
      "execution_count": 22,
      "outputs": []
    },
    {
      "cell_type": "code",
      "metadata": {
        "id": "hFDevuO09V0M"
      },
      "source": [
        "def evaluate(model, val_loader):\n",
        "    \n",
        "    # List containing evaluations for every batch\n",
        "    outputs = [model.validation_step(batch) for batch in val_loader]\n",
        "    \n",
        "    return model.validation_epoch_end(outputs)"
      ],
      "execution_count": 23,
      "outputs": []
    },
    {
      "cell_type": "markdown",
      "metadata": {
        "id": "EhetHT4B9V0M"
      },
      "source": [
        "### Creating and training model"
      ]
    },
    {
      "cell_type": "code",
      "metadata": {
        "colab": {
          "base_uri": "https://localhost:8080/"
        },
        "id": "0y-8QjDr9V0M",
        "outputId": "ed4a2851-140d-44fe-c21c-d4031c763596"
      },
      "source": [
        "# Hyperparameters\n",
        "learning_rate = 0.001\n",
        "\n",
        "# Create model\n",
        "model = Model()\n",
        "model\n",
        "\n",
        "# Moving model to device\n",
        "to_device(model, device)"
      ],
      "execution_count": 32,
      "outputs": [
        {
          "output_type": "execute_result",
          "data": {
            "text/plain": [
              "Model(\n",
              "  (network): Sequential(\n",
              "    (0): Conv2d(3, 32, kernel_size=(3, 3), stride=(1, 1), padding=(1, 1))\n",
              "    (1): ReLU()\n",
              "    (2): Conv2d(32, 64, kernel_size=(3, 3), stride=(1, 1), padding=(1, 1))\n",
              "    (3): ReLU()\n",
              "    (4): MaxPool2d(kernel_size=2, stride=2, padding=0, dilation=1, ceil_mode=False)\n",
              "    (5): Conv2d(64, 128, kernel_size=(3, 3), stride=(1, 1), padding=(1, 1))\n",
              "    (6): ReLU()\n",
              "    (7): Conv2d(128, 128, kernel_size=(3, 3), stride=(1, 1), padding=(1, 1))\n",
              "    (8): ReLU()\n",
              "    (9): MaxPool2d(kernel_size=2, stride=2, padding=0, dilation=1, ceil_mode=False)\n",
              "    (10): Conv2d(128, 256, kernel_size=(3, 3), stride=(1, 1), padding=(1, 1))\n",
              "    (11): ReLU()\n",
              "    (12): Conv2d(256, 256, kernel_size=(3, 3), stride=(1, 1), padding=(1, 1))\n",
              "    (13): ReLU()\n",
              "    (14): MaxPool2d(kernel_size=2, stride=2, padding=0, dilation=1, ceil_mode=False)\n",
              "    (15): Flatten(start_dim=1, end_dim=-1)\n",
              "    (16): Linear(in_features=4096, out_features=1024, bias=True)\n",
              "    (17): ReLU()\n",
              "    (18): Linear(in_features=1024, out_features=512, bias=True)\n",
              "    (19): ReLU()\n",
              "    (20): Linear(in_features=512, out_features=10, bias=True)\n",
              "  )\n",
              ")"
            ]
          },
          "metadata": {
            "tags": []
          },
          "execution_count": 32
        }
      ]
    },
    {
      "cell_type": "code",
      "metadata": {
        "colab": {
          "base_uri": "https://localhost:8080/"
        },
        "id": "I7LC8R5A9V0N",
        "outputId": "7722ea18-16cf-43a2-90be-d7cd5e5c91b7"
      },
      "source": [
        "history = fit(10, model, learning_rate, train_dl, val_dl)"
      ],
      "execution_count": 33,
      "outputs": [
        {
          "output_type": "stream",
          "text": [
            "Training\n",
            "Epoch [0], train_loss: 1.8052, val_loss: 1.4616, val_acc: 0.4473\n",
            "Epoch [1], train_loss: 1.2848, val_loss: 1.1455, val_acc: 0.5836\n",
            "Epoch [2], train_loss: 1.0320, val_loss: 0.9738, val_acc: 0.6513\n",
            "Epoch [3], train_loss: 0.8754, val_loss: 0.9212, val_acc: 0.6766\n",
            "Epoch [4], train_loss: 0.7608, val_loss: 0.8457, val_acc: 0.7080\n",
            "Epoch [5], train_loss: 0.6680, val_loss: 0.8560, val_acc: 0.7006\n",
            "Epoch [6], train_loss: 0.5915, val_loss: 0.8164, val_acc: 0.7241\n",
            "Epoch [7], train_loss: 0.5222, val_loss: 0.8505, val_acc: 0.7239\n",
            "Epoch [8], train_loss: 0.4588, val_loss: 0.8744, val_acc: 0.7367\n",
            "Epoch [9], train_loss: 0.4079, val_loss: 0.8963, val_acc: 0.7269\n"
          ],
          "name": "stdout"
        }
      ]
    },
    {
      "cell_type": "markdown",
      "metadata": {
        "id": "uruEIDlA9V0N"
      },
      "source": [
        "Now we plot the evaluation metrics for all epochs."
      ]
    },
    {
      "cell_type": "code",
      "metadata": {
        "id": "xTfm-yDX9V0N"
      },
      "source": [
        "train_losses = [l['train_loss'] for l in history]\n",
        "val_losses = [l['val_loss'] for l in history]\n",
        "acc = [a['val_acc'] for a in history]"
      ],
      "execution_count": 37,
      "outputs": []
    },
    {
      "cell_type": "code",
      "metadata": {
        "colab": {
          "base_uri": "https://localhost:8080/",
          "height": 241
        },
        "id": "MOqP0cc7FPb4",
        "outputId": "35c0e046-7673-4bc2-ba01-4b9f68190b3a"
      },
      "source": [
        "fig, axes = plt.subplots(1, 2, figsize=(10,3))\n",
        "\n",
        "axes[0].plot(val_losses, '-o')\n",
        "axes[0].set_xlabel(\"Epochs\")\n",
        "axes[0].set_ylabel(\"Cross Entropy\")\n",
        "axes[0].set_title(\"Validation losses\")\n",
        "\n",
        "axes[1].plot(acc, '-o')\n",
        "axes[1].set_xlabel(\"Epochs\")\n",
        "axes[1].set_ylabel(\"Accuracy\")\n",
        "axes[1].set_title(\"Validation accuracies\")\n",
        "plt.show()"
      ],
      "execution_count": 40,
      "outputs": [
        {
          "output_type": "display_data",
          "data": {
            "image/png": "[encoded data removed]",
            "text/plain": [
              "<Figure size 720x216 with 2 Axes>"
            ]
          },
          "metadata": {
            "tags": [],
            "needs_background": "light"
          }
        }
      ]
    },
    {
      "cell_type": "markdown",
      "metadata": {
        "id": "bS33mMjpcvhp"
      },
      "source": [
        "Now we'll compare the training and validation loss."
      ]
    },
    {
      "cell_type": "code",
      "metadata": {
        "colab": {
          "base_uri": "https://localhost:8080/",
          "height": 281
        },
        "id": "mggausyUa9_W",
        "outputId": "0ea56e3c-273a-46ae-f2b6-3f181083bb79"
      },
      "source": [
        "plt.plot(train_losses, '-o')\n",
        "plt.plot(val_losses, '-o')\n",
        "plt.legend([\"Training loss\", \"Validation loss\"])\n",
        "plt.title(\"Model Loss\")\n",
        "plt.show()"
      ],
      "execution_count": 38,
      "outputs": [
        {
          "output_type": "display_data",
          "data": {
            "image/png": "[encoded data removed]",
            "text/plain": [
              "<Figure size 432x288 with 1 Axes>"
            ]
          },
          "metadata": {
            "tags": [],
            "needs_background": "light"
          }
        }
      ]
    },
    {
      "cell_type": "markdown",
      "metadata": {
        "id": "hhbAMOo7c0aH"
      },
      "source": [
        "The model is slightly overfitting after around 4th epoch."
      ]
    },
    {
      "cell_type": "markdown",
      "metadata": {
        "id": "iCO00eZqeBw-"
      },
      "source": [
        "### Saving model"
      ]
    },
    {
      "cell_type": "code",
      "metadata": {
        "id": "PoWDGClyeD6f"
      },
      "source": [
        "torch.save(model.state_dict(), 'cifar10-cnn.pth')"
      ],
      "execution_count": 48,
      "outputs": []
    },
    {
      "cell_type": "markdown",
      "metadata": {
        "id": "U7BwI2e49V0O"
      },
      "source": [
        "### Checking model performance on test dataset"
      ]
    },
    {
      "cell_type": "code",
      "metadata": {
        "colab": {
          "base_uri": "https://localhost:8080/"
        },
        "id": "KXtZrfhU9V0G",
        "outputId": "4a31bdd9-300d-42bf-878c-5511b5cdcb99"
      },
      "source": [
        "# Testing dataset\n",
        "\n",
        "test_dataset = ImageFolder(data_dir+'/test', transform=transforms.ToTensor())\n",
        "test_dataset"
      ],
      "execution_count": 41,
      "outputs": [
        {
          "output_type": "execute_result",
          "data": {
            "text/plain": [
              "Dataset ImageFolder\n",
              "    Number of datapoints: 10000\n",
              "    Root location: ./data/cifar10/test\n",
              "    StandardTransform\n",
              "Transform: ToTensor()"
            ]
          },
          "metadata": {
            "tags": []
          },
          "execution_count": 41
        }
      ]
    },
    {
      "cell_type": "code",
      "metadata": {
        "id": "GEcHdTWTHAwy"
      },
      "source": [
        "def predict_image(img, model):\n",
        "    xb = to_device(img.unsqueeze(0), device)\n",
        "    yb = model(xb)\n",
        "    _, preds  = torch.max(yb, dim=1)\n",
        "    return preds[0].item()"
      ],
      "execution_count": 42,
      "outputs": []
    },
    {
      "cell_type": "code",
      "metadata": {
        "id": "-edqPWtN9V0O"
      },
      "source": [
        "test_loader = DeviceDataLoader(DataLoader(test_dataset, batch_size), device)"
      ],
      "execution_count": 43,
      "outputs": []
    },
    {
      "cell_type": "code",
      "metadata": {
        "id": "P4OXjzzc9V0O"
      },
      "source": [
        "result = evaluate(model, test_loader)\n",
        "print(\"Test Loss = {:.4f}, Test accuracy = {:.4F}\".format(result['val_loss'], result['val_acc']))"
      ],
      "execution_count": 47,
      "outputs": []
    },
    {
      "cell_type": "code",
      "metadata": {
        "id": "VruKeDmWF6I-"
      },
      "source": [
        "for img, lab in test_loader:\n",
        "  test_labels = lab\n",
        "  test_output_probs = model(img)\n",
        "  break\n",
        "\n",
        "_, test_output = torch.max(test_output_probs, dim = 1)"
      ],
      "execution_count": null,
      "outputs": []
    },
    {
      "cell_type": "markdown",
      "metadata": {
        "id": "lJ7UebBzKQel"
      },
      "source": [
        "Now we visualize the test images with their predicted labels."
      ]
    },
    {
      "cell_type": "code",
      "metadata": {
        "id": "YdAQBDRsHvgk",
        "scrolled": true
      },
      "source": [
        "print(test_output[:10])\n",
        "print(test_labels[:10])"
      ],
      "execution_count": 49,
      "outputs": []
    }
  ]
}