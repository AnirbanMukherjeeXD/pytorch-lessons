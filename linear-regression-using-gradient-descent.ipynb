{
 "cells": [
  {
   "cell_type": "code",
   "execution_count": 1,
   "metadata": {},
   "outputs": [],
   "source": [
    "import matplotlib.pyplot as plt"
   ]
  },
  {
   "cell_type": "code",
   "execution_count": 2,
   "metadata": {},
   "outputs": [],
   "source": [
    "import torch\n",
    "import numpy as np"
   ]
  },
  {
   "cell_type": "markdown",
   "metadata": {},
   "source": [
    "## Creating inputs and outputs"
   ]
  },
  {
   "cell_type": "markdown",
   "metadata": {},
   "source": [
    "Taking 5 rows of inputs having 3 features, outputs having 2 variables.\n",
    "So, inputs are of shape 5x3 and outputs of shape 5x2."
   ]
  },
  {
   "cell_type": "code",
   "execution_count": 20,
   "metadata": {},
   "outputs": [
    {
     "name": "stdout",
     "output_type": "stream",
     "text": [
      "[[   2.   50.  -20.]\n",
      " [  10.  230. -110.]\n",
      " [   5.  120.  -48.]\n",
      " [   7.  180.  -80.]\n",
      " [  12.  300. -140.]]\n"
     ]
    }
   ],
   "source": [
    "inputs = np.array([[2, 50, -20],\n",
    "              [10, 230, -110],\n",
    "              [5, 120, -48],\n",
    "              [7, 180, -80],\n",
    "              [12, 300, -140]\n",
    "             ], dtype='float32')\n",
    "\n",
    "print(inputs)"
   ]
  },
  {
   "cell_type": "code",
   "execution_count": 21,
   "metadata": {},
   "outputs": [
    {
     "name": "stdout",
     "output_type": "stream",
     "text": [
      "[[ 100.  300.]\n",
      " [ 900. 2800.]\n",
      " [ 430. 1200.]\n",
      " [ 650. 1700.]\n",
      " [1320. 4000.]]\n"
     ]
    }
   ],
   "source": [
    "targets = np.array([[100, 300],\n",
    "              [900, 2800],\n",
    "              [430, 1200],\n",
    "              [650, 1700],\n",
    "              [1320, 4000]\n",
    "             ], dtype='float32')\n",
    "\n",
    "print(targets)"
   ]
  },
  {
   "cell_type": "markdown",
   "metadata": {},
   "source": [
    "### Converting into torch.tensor objects"
   ]
  },
  {
   "cell_type": "code",
   "execution_count": 22,
   "metadata": {},
   "outputs": [],
   "source": [
    "X = torch.from_numpy(inputs)\n",
    "Y = torch.from_numpy(targets)"
   ]
  },
  {
   "cell_type": "markdown",
   "metadata": {},
   "source": [
    "## Creating model"
   ]
  },
  {
   "cell_type": "markdown",
   "metadata": {},
   "source": [
    "### Initializing weights and bias"
   ]
  },
  {
   "cell_type": "code",
   "execution_count": 23,
   "metadata": {},
   "outputs": [],
   "source": [
    "w = torch.randn(Y.shape[1],X.shape[1], requires_grad=True)\n",
    "b = torch.randn(Y.shape[1], requires_grad=True)"
   ]
  },
  {
   "cell_type": "code",
   "execution_count": 24,
   "metadata": {},
   "outputs": [
    {
     "name": "stdout",
     "output_type": "stream",
     "text": [
      "tensor([[ 2.3669, -0.2281, -0.5640],\n",
      "        [-1.9582,  0.7312, -1.5440]], requires_grad=True) \n",
      "\n",
      "tensor([-1.0605,  0.4080], requires_grad=True)\n"
     ]
    }
   ],
   "source": [
    "print(w,'\\n')\n",
    "print(b)"
   ]
  },
  {
   "cell_type": "markdown",
   "metadata": {},
   "source": [
    "### Defining model"
   ]
  },
  {
   "cell_type": "code",
   "execution_count": 25,
   "metadata": {},
   "outputs": [],
   "source": [
    "def model(X, w, b):\n",
    "    return(X @ w.t() + b)"
   ]
  },
  {
   "cell_type": "code",
   "execution_count": 26,
   "metadata": {},
   "outputs": [
    {
     "name": "stdout",
     "output_type": "stream",
     "text": [
      "Target values :\n",
      " tensor([[ 100.,  300.],\n",
      "        [ 900., 2800.],\n",
      "        [ 430., 1200.],\n",
      "        [ 650., 1700.],\n",
      "        [1320., 4000.]]) \n",
      "\n",
      "Predicted values :\n",
      " tensor([[  3.5476,  63.9338],\n",
      "        [ 32.1826, 318.8528],\n",
      "        [ 10.4722, 152.4782],\n",
      "        [ 19.5673, 241.8448],\n",
      "        [ 37.8684, 412.4435]], grad_fn=<AddBackward0>) \n",
      "\n"
     ]
    }
   ],
   "source": [
    "## Initial values\n",
    "\n",
    "Y_pred = model(X, w, b)\n",
    "\n",
    "print(\"Target values :\\n\",Y,'\\n')\n",
    "print(\"Predicted values :\\n\",Y_pred,'\\n')"
   ]
  },
  {
   "cell_type": "markdown",
   "metadata": {},
   "source": [
    "## Loss function"
   ]
  },
  {
   "cell_type": "code",
   "execution_count": 10,
   "metadata": {},
   "outputs": [],
   "source": [
    "def mse(Y_pred, Y):\n",
    "    diff = Y_pred - Y\n",
    "    return(torch.sum(diff**2)/diff.numel())"
   ]
  },
  {
   "cell_type": "code",
   "execution_count": 11,
   "metadata": {},
   "outputs": [
    {
     "name": "stdout",
     "output_type": "stream",
     "text": [
      "tensor(3405528.7500, grad_fn=<DivBackward0>)\n"
     ]
    }
   ],
   "source": [
    "loss = mse(Y_pred, Y)\n",
    "print(loss)"
   ]
  },
  {
   "cell_type": "markdown",
   "metadata": {},
   "source": [
    "## Gradient Descent"
   ]
  },
  {
   "cell_type": "markdown",
   "metadata": {},
   "source": [
    "### Computing gradients"
   ]
  },
  {
   "cell_type": "code",
   "execution_count": 12,
   "metadata": {},
   "outputs": [],
   "source": [
    "loss.backward()"
   ]
  },
  {
   "cell_type": "code",
   "execution_count": 13,
   "metadata": {},
   "outputs": [
    {
     "name": "stdout",
     "output_type": "stream",
     "text": [
      "tensor([[  -7243.1382, -177195.7969,   81777.7422],\n",
      "        [ -19461.8242, -475535.6875,  219845.7031]])\n",
      "tensor([ -778.4398, -2062.6023])\n"
     ]
    }
   ],
   "source": [
    "print(w.grad)\n",
    "print(b.grad)"
   ]
  },
  {
   "cell_type": "markdown",
   "metadata": {},
   "source": [
    "### Adjusting weights and biases as per gradients"
   ]
  },
  {
   "cell_type": "code",
   "execution_count": 14,
   "metadata": {},
   "outputs": [],
   "source": [
    "lr = 0.00001"
   ]
  },
  {
   "cell_type": "code",
   "execution_count": 15,
   "metadata": {},
   "outputs": [],
   "source": [
    "with torch.no_grad():\n",
    "    w -= w.grad * lr\n",
    "    b -= b.grad * lr\n",
    "    \n",
    "    # Setting gradients to zero\n",
    "    \n",
    "    w.grad.zero_()\n",
    "    b.grad.zero_()"
   ]
  },
  {
   "cell_type": "markdown",
   "metadata": {},
   "source": [
    "### Check new loss"
   ]
  },
  {
   "cell_type": "code",
   "execution_count": 16,
   "metadata": {},
   "outputs": [
    {
     "name": "stdout",
     "output_type": "stream",
     "text": [
      "tensor(3405528.7500, grad_fn=<DivBackward0>)\n",
      "tensor(1005705., grad_fn=<DivBackward0>)\n"
     ]
    }
   ],
   "source": [
    "Y_pred = model(X, w, b)\n",
    "loss_new = mse(Y_pred, Y)\n",
    "print(loss)\n",
    "print(loss_new)"
   ]
  },
  {
   "cell_type": "markdown",
   "metadata": {},
   "source": [
    "### Training for multiple epochs"
   ]
  },
  {
   "cell_type": "code",
   "execution_count": 17,
   "metadata": {},
   "outputs": [],
   "source": [
    "epochs = 10000"
   ]
  },
  {
   "cell_type": "code",
   "execution_count": 18,
   "metadata": {},
   "outputs": [],
   "source": [
    "for i in range(epochs):\n",
    "    Y_pred = model(X, w, b)\n",
    "    loss = mse(Y_pred, Y)\n",
    "    loss.backward()\n",
    "    with torch.no_grad():\n",
    "        w -= w.grad * lr\n",
    "        b -= b.grad * lr\n",
    "        w.grad.zero_()\n",
    "        b.grad.zero_()"
   ]
  },
  {
   "cell_type": "code",
   "execution_count": 19,
   "metadata": {},
   "outputs": [
    {
     "name": "stdout",
     "output_type": "stream",
     "text": [
      "Target values :\n",
      " tensor([[ 100.,  300.],\n",
      "        [ 900., 2800.],\n",
      "        [ 430., 1200.],\n",
      "        [ 650., 1700.],\n",
      "        [1320., 4000.]]) \n",
      "\n",
      "Predicted values :\n",
      " tensor([[ 174.3331,  466.5924],\n",
      "        [ 965.5428, 2940.3340],\n",
      "        [ 420.8174, 1130.4347],\n",
      "        [ 702.3077, 2040.3105],\n",
      "        [1229.9076, 3689.5215]], grad_fn=<AddBackward0>) \n",
      "\n",
      "Loss =  tensor(28525.2461, grad_fn=<DivBackward0>)\n"
     ]
    }
   ],
   "source": [
    "Y_pred = model(X, w, b)\n",
    "loss = mse(Y_pred, Y)\n",
    "\n",
    "print(\"Target values :\\n\",Y,'\\n')\n",
    "print(\"Predicted values :\\n\",Y_pred,'\\n')\n",
    "print(\"Loss = \", loss)"
   ]
  }
 ],
 "metadata": {
  "kernelspec": {
   "display_name": "Python 3",
   "language": "python",
   "name": "python3"
  },
  "language_info": {
   "codemirror_mode": {
    "name": "ipython",
    "version": 3
   },
   "file_extension": ".py",
   "mimetype": "text/x-python",
   "name": "python",
   "nbconvert_exporter": "python",
   "pygments_lexer": "ipython3",
   "version": "3.7.1"
  }
 },
 "nbformat": 4,
 "nbformat_minor": 2
}
