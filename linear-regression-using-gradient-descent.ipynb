{
 "cells": [
  {
   "cell_type": "code",
   "execution_count": 1,
   "metadata": {},
   "outputs": [],
   "source": [
    "import matplotlib.pyplot as plt"
   ]
  },
  {
   "cell_type": "code",
   "execution_count": 2,
   "metadata": {},
   "outputs": [],
   "source": [
    "import torch\n",
    "import numpy as np"
   ]
  },
  {
   "cell_type": "markdown",
   "metadata": {},
   "source": [
    "## Creating inputs and outputs"
   ]
  },
  {
   "cell_type": "markdown",
   "metadata": {},
   "source": [
    "Taking 5 rows of inputs having 3 features, outputs having 2 variables.\n",
    "So, inputs are of shape 5x3 and outputs of shape 5x2."
   ]
  },
  {
   "cell_type": "code",
   "execution_count": 3,
   "metadata": {},
   "outputs": [
    {
     "name": "stdout",
     "output_type": "stream",
     "text": [
      "[[   2.   50.  -20.]\n",
      " [  10.  230. -110.]\n",
      " [   5.  120.  -48.]\n",
      " [   7.  180.  -80.]\n",
      " [  12.  300. -140.]]\n"
     ]
    }
   ],
   "source": [
    "inputs = np.array([[2, 50, -20],\n",
    "              [10, 230, -110],\n",
    "              [5, 120, -48],\n",
    "              [7, 180, -80],\n",
    "              [12, 300, -140]\n",
    "             ], dtype='float32')\n",
    "\n",
    "print(inputs)"
   ]
  },
  {
   "cell_type": "code",
   "execution_count": 4,
   "metadata": {},
   "outputs": [
    {
     "name": "stdout",
     "output_type": "stream",
     "text": [
      "[[ 100.  300.]\n",
      " [ 900. 2800.]\n",
      " [ 430. 1200.]\n",
      " [ 650. 1700.]\n",
      " [1320. 4000.]]\n"
     ]
    }
   ],
   "source": [
    "targets = np.array([[100, 300],\n",
    "              [900, 2800],\n",
    "              [430, 1200],\n",
    "              [650, 1700],\n",
    "              [1320, 4000]\n",
    "             ], dtype='float32')\n",
    "\n",
    "print(targets)"
   ]
  },
  {
   "cell_type": "markdown",
   "metadata": {},
   "source": [
    "### Converting into torch.tensor objects"
   ]
  },
  {
   "cell_type": "code",
   "execution_count": 5,
   "metadata": {},
   "outputs": [],
   "source": [
    "x = torch.from_numpy(inputs)\n",
    "y = torch.from_numpy(targets)"
   ]
  },
  {
   "cell_type": "markdown",
   "metadata": {},
   "source": [
    "## Building model from scratch"
   ]
  },
  {
   "cell_type": "markdown",
   "metadata": {},
   "source": [
    "### Initializing weights and bias"
   ]
  },
  {
   "cell_type": "code",
   "execution_count": 6,
   "metadata": {},
   "outputs": [],
   "source": [
    "w = torch.randn(y.shape[1],x.shape[1], requires_grad=True)\n",
    "b = torch.randn(y.shape[1], requires_grad=True)"
   ]
  },
  {
   "cell_type": "code",
   "execution_count": 7,
   "metadata": {},
   "outputs": [
    {
     "name": "stdout",
     "output_type": "stream",
     "text": [
      "tensor([[0.0666, 0.8153, 0.3651],\n",
      "        [1.1149, 0.4779, 0.4291]], requires_grad=True) \n",
      "\n",
      "tensor([-0.2475,  0.1149], requires_grad=True)\n"
     ]
    }
   ],
   "source": [
    "print(w,'\\n')\n",
    "print(b)"
   ]
  },
  {
   "cell_type": "markdown",
   "metadata": {},
   "source": [
    "### Defining model"
   ]
  },
  {
   "cell_type": "code",
   "execution_count": 8,
   "metadata": {},
   "outputs": [],
   "source": [
    "def model(x, w, b):\n",
    "    return(x @ w.t() + b)"
   ]
  },
  {
   "cell_type": "code",
   "execution_count": 9,
   "metadata": {},
   "outputs": [
    {
     "name": "stdout",
     "output_type": "stream",
     "text": [
      "Target values :\n",
      " tensor([[ 100.,  300.],\n",
      "        [ 900., 2800.],\n",
      "        [ 430., 1200.],\n",
      "        [ 650., 1700.],\n",
      "        [1320., 4000.]]) \n",
      "\n",
      "Predicted values :\n",
      " tensor([[ 33.3482,  17.6571],\n",
      "        [147.7745,  73.9774],\n",
      "        [ 80.3954,  42.4391],\n",
      "        [117.7630,  59.6112],\n",
      "        [194.0249,  96.7865]], grad_fn=<AddBackward0>) \n",
      "\n"
     ]
    }
   ],
   "source": [
    "## Initial values\n",
    "\n",
    "y_pred = model(x, w, b)\n",
    "\n",
    "print(\"Target values :\\n\",y,'\\n')\n",
    "print(\"Predicted values :\\n\",y_pred,'\\n')"
   ]
  },
  {
   "cell_type": "markdown",
   "metadata": {},
   "source": [
    "### Loss function"
   ]
  },
  {
   "cell_type": "code",
   "execution_count": 10,
   "metadata": {},
   "outputs": [],
   "source": [
    "def mse(y_pred, y):\n",
    "    diff = y_pred - y\n",
    "    return(torch.sum(diff**2)/diff.numel())"
   ]
  },
  {
   "cell_type": "code",
   "execution_count": 11,
   "metadata": {},
   "outputs": [
    {
     "name": "stdout",
     "output_type": "stream",
     "text": [
      "tensor(2902042.2500, grad_fn=<DivBackward0>)\n"
     ]
    }
   ],
   "source": [
    "loss = mse(y_pred, y)\n",
    "print(loss)"
   ]
  },
  {
   "cell_type": "markdown",
   "metadata": {},
   "source": [
    "### Computing gradients using autograd"
   ]
  },
  {
   "cell_type": "code",
   "execution_count": 12,
   "metadata": {},
   "outputs": [],
   "source": [
    "loss.backward()"
   ]
  },
  {
   "cell_type": "code",
   "execution_count": 13,
   "metadata": {},
   "outputs": [
    {
     "name": "stdout",
     "output_type": "stream",
     "text": [
      "tensor([[  -5328.1885, -130378.4453,   60214.8672],\n",
      "        [ -18386.8008, -449248.7500,  207750.6562]])\n",
      "tensor([ -565.3388, -1941.9059])\n"
     ]
    }
   ],
   "source": [
    "print(w.grad)\n",
    "print(b.grad)"
   ]
  },
  {
   "cell_type": "markdown",
   "metadata": {},
   "source": [
    "### Adjusting weights and biases as per gradients"
   ]
  },
  {
   "cell_type": "code",
   "execution_count": 14,
   "metadata": {},
   "outputs": [],
   "source": [
    "lr = 0.00001"
   ]
  },
  {
   "cell_type": "code",
   "execution_count": 15,
   "metadata": {},
   "outputs": [],
   "source": [
    "with torch.no_grad():\n",
    "    w -= w.grad * lr\n",
    "    b -= b.grad * lr\n",
    "    \n",
    "    # Setting gradients to zero\n",
    "    \n",
    "    w.grad.zero_()\n",
    "    b.grad.zero_()"
   ]
  },
  {
   "cell_type": "markdown",
   "metadata": {},
   "source": [
    "### Check new loss"
   ]
  },
  {
   "cell_type": "code",
   "execution_count": 16,
   "metadata": {},
   "outputs": [
    {
     "name": "stdout",
     "output_type": "stream",
     "text": [
      "tensor(2902042.2500, grad_fn=<DivBackward0>)\n",
      "tensor(862654.3750, grad_fn=<DivBackward0>)\n"
     ]
    }
   ],
   "source": [
    "y_pred = model(x, w, b)\n",
    "loss_new = mse(y_pred, y)\n",
    "print(loss)\n",
    "print(loss_new)"
   ]
  },
  {
   "cell_type": "markdown",
   "metadata": {},
   "source": [
    "### Training for multiple epochs"
   ]
  },
  {
   "cell_type": "code",
   "execution_count": 17,
   "metadata": {},
   "outputs": [],
   "source": [
    "epochs = 10000"
   ]
  },
  {
   "cell_type": "code",
   "execution_count": 18,
   "metadata": {},
   "outputs": [],
   "source": [
    "for i in range(epochs):\n",
    "    y_pred = model(x, w, b)\n",
    "    loss = mse(y_pred, y)\n",
    "    loss.backward()\n",
    "    with torch.no_grad():\n",
    "        w -= w.grad * lr\n",
    "        b -= b.grad * lr\n",
    "        w.grad.zero_()\n",
    "        b.grad.zero_()"
   ]
  },
  {
   "cell_type": "code",
   "execution_count": 19,
   "metadata": {},
   "outputs": [
    {
     "name": "stdout",
     "output_type": "stream",
     "text": [
      "Target values :\n",
      " tensor([[ 100.,  300.],\n",
      "        [ 900., 2800.],\n",
      "        [ 430., 1200.],\n",
      "        [ 650., 1700.],\n",
      "        [1320., 4000.]]) \n",
      "\n",
      "Predicted values :\n",
      " tensor([[ 163.3475,  424.7473],\n",
      "        [ 971.6277, 2979.9382],\n",
      "        [ 403.3122, 1051.1436],\n",
      "        [ 696.8544, 2010.1288],\n",
      "        [1237.0767, 3714.6946]], grad_fn=<AddBackward0>) \n",
      "\n"
     ]
    }
   ],
   "source": [
    "y_pred = model(x, w, b)\n",
    "\n",
    "print(\"Target values :\\n\",y,'\\n')\n",
    "print(\"Predicted values :\\n\",y_pred,'\\n')"
   ]
  },
  {
   "cell_type": "markdown",
   "metadata": {},
   "source": [
    "## Building model using torch inbuilts"
   ]
  },
  {
   "cell_type": "markdown",
   "metadata": {},
   "source": [
    "### Dataset and Dataloader"
   ]
  },
  {
   "cell_type": "code",
   "execution_count": 20,
   "metadata": {},
   "outputs": [
    {
     "data": {
      "text/plain": [
       "(tensor([[   2.,   50.,  -20.],\n",
       "         [  10.,  230., -110.],\n",
       "         [   5.,  120.,  -48.]]), tensor([[ 100.,  300.],\n",
       "         [ 900., 2800.],\n",
       "         [ 430., 1200.]]))"
      ]
     },
     "execution_count": 20,
     "metadata": {},
     "output_type": "execute_result"
    }
   ],
   "source": [
    "train_dataset = torch.utils.data.TensorDataset(x, y)\n",
    "train_dataset[:3]"
   ]
  },
  {
   "cell_type": "code",
   "execution_count": 21,
   "metadata": {},
   "outputs": [
    {
     "name": "stdout",
     "output_type": "stream",
     "text": [
      "tensor([[   5.,  120.,  -48.],\n",
      "        [  10.,  230., -110.],\n",
      "        [   2.,   50.,  -20.],\n",
      "        [   7.,  180.,  -80.],\n",
      "        [  12.,  300., -140.]])\n",
      "tensor([[ 430., 1200.],\n",
      "        [ 900., 2800.],\n",
      "        [ 100.,  300.],\n",
      "        [ 650., 1700.],\n",
      "        [1320., 4000.]])\n"
     ]
    }
   ],
   "source": [
    "batch_size = 5\n",
    "train_dataloader = torch.utils.data.DataLoader(train_dataset, batch_size, shuffle = True)\n",
    "\n",
    "for xb, yb in train_dataloader:\n",
    "    print(xb)\n",
    "    print(yb)\n",
    "    break"
   ]
  },
  {
   "cell_type": "markdown",
   "metadata": {},
   "source": [
    "### torch.nn.Linear\n",
    "This will initialize weights and biases automatically."
   ]
  },
  {
   "cell_type": "code",
   "execution_count": 22,
   "metadata": {},
   "outputs": [
    {
     "name": "stdout",
     "output_type": "stream",
     "text": [
      "Parameter containing:\n",
      "tensor([[ 0.3546,  0.3004,  0.0953],\n",
      "        [-0.3937,  0.3003, -0.3564]], requires_grad=True) \n",
      " Parameter containing:\n",
      "tensor([0.4044, 0.4853], requires_grad=True)\n"
     ]
    }
   ],
   "source": [
    "model = torch.nn.Linear(3,2)\n",
    "\n",
    "print(model.weight,'\\n', model.bias)"
   ]
  },
  {
   "cell_type": "markdown",
   "metadata": {},
   "source": [
    "To view all parameters, we can use ```model.parameters()``` method."
   ]
  },
  {
   "cell_type": "code",
   "execution_count": 23,
   "metadata": {},
   "outputs": [
    {
     "data": {
      "text/plain": [
       "[Parameter containing:\n",
       " tensor([[ 0.3546,  0.3004,  0.0953],\n",
       "         [-0.3937,  0.3003, -0.3564]], requires_grad=True),\n",
       " Parameter containing:\n",
       " tensor([0.4044, 0.4853], requires_grad=True)]"
      ]
     },
     "execution_count": 23,
     "metadata": {},
     "output_type": "execute_result"
    }
   ],
   "source": [
    "list(model.parameters())"
   ]
  },
  {
   "cell_type": "markdown",
   "metadata": {},
   "source": [
    "Making predictions using initialized model:"
   ]
  },
  {
   "cell_type": "code",
   "execution_count": 24,
   "metadata": {},
   "outputs": [
    {
     "name": "stdout",
     "output_type": "stream",
     "text": [
      "tensor([[ 14.2283,  21.8399],\n",
      "        [ 62.5634, 104.8165],\n",
      "        [ 33.6527,  51.6575],\n",
      "        [ 49.3374,  80.2916],\n",
      "        [ 81.4426, 135.7406]], grad_fn=<AddmmBackward>)\n"
     ]
    }
   ],
   "source": [
    "y_pred = model(x)\n",
    "print(y_pred)"
   ]
  },
  {
   "cell_type": "markdown",
   "metadata": {},
   "source": [
    "### Loss function"
   ]
  },
  {
   "cell_type": "code",
   "execution_count": 25,
   "metadata": {},
   "outputs": [
    {
     "name": "stdout",
     "output_type": "stream",
     "text": [
      "tensor(2897660.2500, grad_fn=<MseLossBackward>)\n"
     ]
    }
   ],
   "source": [
    "mse = torch.nn.functional.mse_loss\n",
    "\n",
    "loss = mse(y_pred, y)\n",
    "print(loss)"
   ]
  },
  {
   "cell_type": "markdown",
   "metadata": {},
   "source": [
    "### Optimizer"
   ]
  },
  {
   "cell_type": "code",
   "execution_count": 26,
   "metadata": {},
   "outputs": [],
   "source": [
    "sgd = torch.optim.SGD(model.parameters(), lr=0.00001)"
   ]
  },
  {
   "cell_type": "markdown",
   "metadata": {},
   "source": [
    "To automatically update the parameters (weights and biases), we'll use ```sgd.step()``` function."
   ]
  },
  {
   "cell_type": "markdown",
   "metadata": {},
   "source": [
    "### Training the model"
   ]
  },
  {
   "cell_type": "markdown",
   "metadata": {},
   "source": [
    "Here, we'll work batches of data instead of processing the entire training data in every iteration."
   ]
  },
  {
   "cell_type": "code",
   "execution_count": 27,
   "metadata": {},
   "outputs": [],
   "source": [
    "# Utility function to train the model\n",
    "\n",
    "def fit(epochs, model, loss_function, optimizer, dataloader):\n",
    "    for i in range(epochs):\n",
    "        for xb, yb in dataloader:\n",
    "            \n",
    "            # Make prediction\n",
    "            y_pred = model(xb)\n",
    "            \n",
    "            # Calculate loss\n",
    "            loss = loss_function(y_pred, yb)\n",
    "\n",
    "            # Compute gradients\n",
    "            loss.backward()\n",
    "            \n",
    "            # Update parameters using gradients\n",
    "            optimizer.step()\n",
    "            \n",
    "            # Reset gradients to zero\n",
    "            optimizer.zero_grad()"
   ]
  },
  {
   "cell_type": "code",
   "execution_count": 28,
   "metadata": {},
   "outputs": [],
   "source": [
    "fit(10000, model, mse, sgd, train_dataloader)"
   ]
  },
  {
   "cell_type": "code",
   "execution_count": 30,
   "metadata": {},
   "outputs": [
    {
     "name": "stdout",
     "output_type": "stream",
     "text": [
      "Target values :\n",
      " tensor([[ 100.,  300.],\n",
      "        [ 900., 2800.],\n",
      "        [ 430., 1200.],\n",
      "        [ 650., 1700.],\n",
      "        [1320., 4000.]]) \n",
      "\n",
      "Predicted values :\n",
      " tensor([[ 173.7973,  466.7914],\n",
      "        [ 966.2294, 2940.4749],\n",
      "        [ 419.6322, 1129.8903],\n",
      "        [ 701.8192, 2040.2812],\n",
      "        [1230.2186, 3689.6101]], grad_fn=<AddmmBackward>) \n",
      "\n"
     ]
    }
   ],
   "source": [
    "y_pred = model(x)\n",
    "\n",
    "print(\"Target values :\\n\",y,'\\n')\n",
    "print(\"Predicted values :\\n\",y_pred,'\\n')"
   ]
  }
 ],
 "metadata": {
  "kernelspec": {
   "display_name": "Python 3",
   "language": "python",
   "name": "python3"
  },
  "language_info": {
   "codemirror_mode": {
    "name": "ipython",
    "version": 3
   },
   "file_extension": ".py",
   "mimetype": "text/x-python",
   "name": "python",
   "nbconvert_exporter": "python",
   "pygments_lexer": "ipython3",
   "version": "3.7.1"
  }
 },
 "nbformat": 4,
 "nbformat_minor": 2
}
